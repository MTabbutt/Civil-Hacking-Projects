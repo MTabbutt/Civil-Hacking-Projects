{
 "cells": [
  {
   "cell_type": "code",
   "execution_count": 1,
   "metadata": {},
   "outputs": [],
   "source": [
    "# Make Jupyter Notebook full screen \n",
    "from IPython.core.display import display, HTML\n",
    "display(HTML(\"<style>.container { width:80% !important; }</style>\"))"
   ]
  },
  {
   "cell_type": "code",
   "execution_count": 2,
   "metadata": {},
   "outputs": [],
   "source": [
    "# Import statements:\n",
    "\n",
    "import pandas as pd\n",
    "import numpy as np\n",
    "from scipy import stats\n",
    "import matplotlib.pyplot as plt\n",
    "from matplotlib.lines import Line2D"
   ]
  },
  {
   "cell_type": "code",
   "execution_count": 3,
   "metadata": {},
   "outputs": [
    {
     "data": {
      "text/plain": [
       "['fare_attributes.txt',\n",
       " 'transfers.txt',\n",
       " 'agency.txt',\n",
       " 'Metro_Transit_Bus_Routes.cpg',\n",
       " 'Metro_Transit_Bus_Routes.shp',\n",
       " 'Metro_Transit_Bus_Routes.shx',\n",
       " 'fare_rules.txt',\n",
       " 'calendar_dates.txt',\n",
       " 'stop_times.txt',\n",
       " 'Metro_Transit_Bus_Routes.dbf',\n",
       " 'shapes.txt',\n",
       " 'trips.txt',\n",
       " 'feed_info.txt',\n",
       " 'Metro_Transit_Bus_Routes.prj',\n",
       " 'stops.txt',\n",
       " 'linked_datasets.txt',\n",
       " 'Metro_Transit_Ridership_by_Route_Weekday.csv',\n",
       " 'stop_features.txt',\n",
       " 'calendar.txt',\n",
       " 'routes.txt',\n",
       " 'translations.txt']"
      ]
     },
     "execution_count": 3,
     "metadata": {},
     "output_type": "execute_result"
    }
   ],
   "source": [
    "# Local data paths:\n",
    "\n",
    "GTFS_DATA_PATH = \"mmt_gtfs/\"\n",
    "import os; os.listdir(GTFS_DATA_PATH) # Peak whats in the directory "
   ]
  },
  {
   "cell_type": "code",
   "execution_count": 4,
   "metadata": {},
   "outputs": [],
   "source": [
    "def getPandasDFCSV(path, file, sep=','):  \n",
    "    \"\"\" Keyword Arg sep: deliminator used in txt file (default = ',')\"\"\"\n",
    "    pandasDF = pd.read_csv(path +  file, sep=sep)\n",
    "    return pandasDF"
   ]
  },
  {
   "cell_type": "code",
   "execution_count": 5,
   "metadata": {},
   "outputs": [],
   "source": [
    "stop_times_df = getPandasDFCSV(GTFS_DATA_PATH, 'stop_times.txt')\n",
    "#stop_times_df.info()\n",
    "#stop_times_df.head(3)\n",
    "trips_df = getPandasDFCSV(GTFS_DATA_PATH, 'trips.txt')\n",
    "#trips_df.info()\n",
    "#trips_df.head(3)\n",
    "stops_df = getPandasDFCSV(GTFS_DATA_PATH, 'stops.txt')\n",
    "#stops_df.info()\n",
    "#stops_df.head(3)\n",
    "trips_df = getPandasDFCSV(GTFS_DATA_PATH, 'trips.txt')\n",
    "#trips_df.info()\n",
    "#trips_df.head(3)"
   ]
  },
  {
   "cell_type": "code",
   "execution_count": 6,
   "metadata": {},
   "outputs": [
    {
     "name": "stdout",
     "output_type": "stream",
     "text": [
      "['92_WKD', '92_SAT', '92_SUN', '92_HOL', '92_MWK', '92_WKD:R', '92_SAT:R', '92_SUN:R', '92_HOL:R', '92_SAT:L', '92_SUN:L', '92_WKD:L#6', '92_WKD:L=6', '92_WKD:S', '92_SAT:S', '92_SUN:S', '92_WKD:S#6', '92_WKD:S=6']\n"
     ]
    }
   ],
   "source": [
    "# list of possible trips:\n",
    "\n",
    "service_id_list = []\n",
    "\n",
    "for i in trips_df['service_id']:\n",
    "    if i not in service_id_list:\n",
    "        service_id_list.append(i)\n",
    "print(service_id_list)"
   ]
  },
  {
   "cell_type": "code",
   "execution_count": 7,
   "metadata": {},
   "outputs": [
    {
     "name": "stdout",
     "output_type": "stream",
     "text": [
      "[2, 4, 5, 6, 7, 8, 10, 11, 12, 13, 15, 16, 17, 18, 20, 21, 22, 23, 26, 27, 30, 31, 32, 33, 36, 39, 40, 44, 48, 49, 50, 51, 52, 55, 59, 63, 67, 68, 70, 72, 73, 75, 78, 80, 81, 82, 84]\n"
     ]
    }
   ],
   "source": [
    "# list of possible routes:\n",
    "\n",
    "route_short_name_list = []\n",
    "\n",
    "for i in trips_df['route_short_name']:\n",
    "    if i not in route_short_name_list:\n",
    "        route_short_name_list.append(i)\n",
    "\n",
    "route_short_name_list.sort()\n",
    "print(route_short_name_list)"
   ]
  },
  {
   "cell_type": "code",
   "execution_count": 8,
   "metadata": {},
   "outputs": [],
   "source": [
    "trips_df_weekday_peak = trips_df[trips_df['service_id'] == '92_WKD']\n",
    "trips_df_weekday_peak_R = trips_df[trips_df['service_id'] == '92_WKD:R']\n",
    "trips_df_weekday_peak_s = trips_df[trips_df['service_id'] == '92_WKD:L#6']\n",
    "trips_df_weekday_peak_s3 = trips_df[trips_df['service_id'] == '92_WKD:L=6']\n",
    "trips_df_weekday_peak_s1 = trips_df[trips_df['service_id'] == '92_WKD:S']\n",
    "trips_df_weekday_peak_s2 = trips_df[trips_df['service_id'] == '92_WKD:S#6']\n",
    "trips_df_weekday_peak_s4 = trips_df[trips_df['service_id'] == '92_WKD:S=6']\n",
    "\n",
    "dfs_wk = [trips_df_weekday_peak, trips_df_weekday_peak_R, trips_df_weekday_peak_s, \n",
    "          trips_df_weekday_peak_s1, trips_df_weekday_peak_s2, trips_df_weekday_peak_s4]\n",
    "\n",
    "trips_df_weekday = pd.concat(dfs_wk)\n",
    "#trips_df_weekday.head()"
   ]
  },
  {
   "cell_type": "code",
   "execution_count": 9,
   "metadata": {},
   "outputs": [
    {
     "name": "stdout",
     "output_type": "stream",
     "text": [
      "[2, 4, 5, 6, 7, 8, 10, 11, 12, 13, 15, 16, 17, 18, 20, 21, 22, 23, 26, 27, 30, 31, 32, 33, 36, 39, 40, 44, 48, 49, 50, 51, 52, 55, 67, 70, 72, 73, 75, 80, 81, 82, 84]\n"
     ]
    }
   ],
   "source": [
    "routes_wk_list = []\n",
    "for route in trips_df_weekday['route_short_name']:\n",
    "    if route not in routes_wk_list:\n",
    "        routes_wk_list.append(route)\n",
    "\n",
    "routes_wk_list.sort()\n",
    "print(routes_wk_list)"
   ]
  },
  {
   "cell_type": "code",
   "execution_count": 10,
   "metadata": {},
   "outputs": [
    {
     "name": "stdout",
     "output_type": "stream",
     "text": [
      "weekend and holiday routes:\n",
      "59\n",
      "63\n",
      "68\n",
      "78\n"
     ]
    }
   ],
   "source": [
    "print(\"weekend and holiday routes:\")\n",
    "for route in route_short_name_list:\n",
    "    if route not in routes_wk_list:\n",
    "        print(route)"
   ]
  },
  {
   "cell_type": "code",
   "execution_count": 11,
   "metadata": {},
   "outputs": [],
   "source": [
    "# make a dictionary of routes with trip ID's for weekday service:\n",
    "\n",
    "tripIDList_forRoutes_weekday92 = dict()\n",
    "\n",
    "for i in routes_wk_list:\n",
    "    trip_list = []\n",
    "    for j in trips_df_weekday[trips_df_weekday['route_short_name'] == i].iterrows():\n",
    "        trip_list.append(j[1]['trip_id'])\n",
    "    tripIDList_forRoutes_weekday92[i] = trip_list\n",
    "\n",
    "#tripIDList_forRoutes_weekday92[23]"
   ]
  },
  {
   "cell_type": "code",
   "execution_count": 12,
   "metadata": {},
   "outputs": [],
   "source": [
    "for route in tripIDList_forRoutes_weekday92:\n",
    "    \n",
    "    for trip in tripIDList_forRoutes_weekday92[route]:\n",
    "        trip_stop_time_df = stop_times_df[stop_times_df['trip_id'] == trip]"
   ]
  },
  {
   "cell_type": "code",
   "execution_count": 13,
   "metadata": {},
   "outputs": [
    {
     "name": "stdout",
     "output_type": "stream",
     "text": [
      "[0.1754, 0.23489999999999997, 0.09029999999999999, 0.25650000000000006, 0.24869999999999992, 0.09620000000000006, 0.20589999999999997, 0.21829999999999994, 0.1684000000000001, 0.25239999999999996, 0.3065, 0.1383000000000001, 0.11730000000000018, 0.20689999999999964, 0.15210000000000035, 0.1325999999999996, 0.15980000000000016, 0.20020000000000016, 0.3004000000000002]\n"
     ]
    }
   ],
   "source": [
    "def get_stop_distances(trip):\n",
    "    \"\"\" getting the stop spacing for a given trip. Stop spacing is defined as the distance travelled by bus between two cosecutive stops. \n",
    "    Should mirror natural walking terrain better than distance between two globe points.\n",
    "    \n",
    "    return: numpy array - contains # of stops - 1 elements that are the distances between stops driven by the bus\n",
    "    \"\"\"\n",
    "    stop_dist_array = []\n",
    "    trip_stop_time_df = stop_times_df[stop_times_df['trip_id'] == trip]\n",
    "    distance_travelled = np.array(trip_stop_time_df['shape_dist_traveled'])\n",
    "    for i in range(len(distance_travelled)-1):\n",
    "        stop_spacing = distance_travelled[i+1] - distance_travelled[i]\n",
    "        stop_dist_array.append(stop_spacing)\n",
    "        \n",
    "    return stop_dist_array\n",
    "\n",
    "print(get_stop_distances(9999999))"
   ]
  },
  {
   "cell_type": "code",
   "execution_count": 14,
   "metadata": {},
   "outputs": [],
   "source": [
    "all_trip_distances_forRoutes_weekday92 = dict()\n",
    "\n",
    "for route in tripIDList_forRoutes_weekday92:\n",
    "    #print(route)\n",
    "    all_trip_distances = []\n",
    "    for trip in tripIDList_forRoutes_weekday92[route]:\n",
    "        #print(trip)\n",
    "        trip_distances = get_stop_distances(trip)\n",
    "        all_trip_distances.append(trip_distances)\n",
    "    all_trip_distances_forRoutes_weekday92[route] = all_trip_distances\n",
    "    \n",
    "#all_trip_distances_forRoutes_weekday92"
   ]
  },
  {
   "cell_type": "code",
   "execution_count": 15,
   "metadata": {},
   "outputs": [],
   "source": [
    "all_trip_distances_forRoutes_weekday92 = dict()\n",
    "\n",
    "for route in tripIDList_forRoutes_weekday92:\n",
    "    #print(route)\n",
    "    all_trip_distances = []\n",
    "    for trip in tripIDList_forRoutes_weekday92[route]:\n",
    "        #print(trip)\n",
    "        trip_distances = get_stop_distances(trip)\n",
    "        all_trip_distances += trip_distances\n",
    "        all_trip_distances.sort()\n",
    "    all_trip_distances_forRoutes_weekday92[route] = np.array(all_trip_distances)\n",
    "    \n",
    "#all_trip_distances_forRoutes_weekday92"
   ]
  },
  {
   "cell_type": "code",
   "execution_count": 16,
   "metadata": {},
   "outputs": [],
   "source": [
    "weekday_routes_92_allTrips = pd.DataFrame.from_dict(dict([ (k, pd.Series(v)) for k, v in all_trip_distances_forRoutes_weekday92.items()]))\n",
    "#weekday_routes_92_allTrips"
   ]
  },
  {
   "cell_type": "code",
   "execution_count": 21,
   "metadata": {},
   "outputs": [
    {
     "name": "stderr",
     "output_type": "stream",
     "text": [
      "<ipython-input-21-665c009ce79e>:30: UserWarning: FixedFormatter should only be used together with FixedLocator\n",
      "  ax.set_xticklabels(list(weekday_routes_92_allTrips.columns), fontsize=14)\n",
      "<ipython-input-21-665c009ce79e>:32: UserWarning: FixedFormatter should only be used together with FixedLocator\n",
      "  ax.set_yticklabels([0.0, 0.5, 1.0, 1.5, 2.0, 2.5, 3.0, 3.5, 4.0], fontsize=14)\n"
     ]
    },
    {
     "data": {
      "image/png": "[encoded data removed]",
      "text/plain": [
       "<Figure size 1440x576 with 1 Axes>"
      ]
     },
     "metadata": {
      "needs_background": "light"
     },
     "output_type": "display_data"
    }
   ],
   "source": [
    "ax = plt.subplots(figsize=(20, 8))[1]\n",
    "yscale = 4\n",
    "\n",
    "for i, col in enumerate(weekday_routes_92_allTrips.columns):\n",
    "    s = weekday_routes_92_allTrips[col]\n",
    "    x = i+1\n",
    "    \n",
    "    #y = s.quantile(0.5)\n",
    "    #ax.plot(x, y, color='#ff9408', linewidth=3, markersize=5, marker = \"_\", alpha=.9, zorder=4)\n",
    "\n",
    "    y1 = s.quantile(0.75)/yscale\n",
    "    y2 = s.quantile(1)/yscale\n",
    "    #ax.plot((x, x), (y1, y2), color='#87ae73', linewidth=10, markersize=1, linestyle = \"-\", alpha=.9)\n",
    "    ax.axvline(x, ymin=y1, ymax=y2, color='#b6df00', linewidth=10, markersize=1, linestyle = \"-\", alpha=1, zorder=1)\n",
    "    \n",
    "    y1 = s.quantile(0.25)/yscale\n",
    "    y2 = s.quantile(0.75)/yscale\n",
    "    ax.axvline(x, ymin=y1, ymax=y2, color='#42928d', linewidth=10, markersize=1, linestyle = \"-\", alpha=1, zorder=2)\n",
    "    #ax.plot((x, x), (y1, y2), color='#b00149', linewidth=10, markersize=1, linestyle = \"-\", alpha=.9)\n",
    "\n",
    "    y1 = s.quantile(0)/yscale\n",
    "    y2 = s.quantile(0.25)/yscale\n",
    "    ax.axvline(x, ymin=y1, ymax=y2, color='#462d7c', linewidth=10, markersize=1, linestyle = \"-\", alpha=1, zorder=1)\n",
    "    #ax.plot((x, x), (y1, y2), color='#34013f', linewidth=10, markersize=1, linestyle = \"-\", alpha=.9)\n",
    "\n",
    "ax.axhline(y=0.2585, xmin=0, xmax=47, color=\"#be0119\", alpha=.5, linestyle=\":\", lw=3, zorder=4)  \n",
    "\n",
    "ax.set_xlim(0.5, len(weekday_routes_92_allTrips.columns)+0.5)\n",
    "ax.set_ylim(0, yscale)\n",
    "ax.set_xticklabels(list(weekday_routes_92_allTrips.columns), fontsize=14)\n",
    "ax.set_xticks(range(1, len(weekday_routes_92_allTrips.columns)+1))\n",
    "ax.set_yticklabels([0.0, 0.5, 1.0, 1.5, 2.0, 2.5, 3.0, 3.5, 4.0], fontsize=14)\n",
    "    \n",
    "ax.spines['right'].set_visible(False)\n",
    "ax.spines['top'].set_visible(False)\n",
    "\n",
    "plt.xlabel(\"Weekday Bus Routes\", fontsize=16)\n",
    "plt.ylabel(\"Stop Distance (miles)\", fontsize=16)\n",
    "\n",
    "#plt.grid(axis='y', linestyle='--')\n",
    "\n",
    "custom_lines = [Line2D([0], [0], color='#472777', lw=4), Line2D([0], [0], color='#1f918b', lw=4), Line2D([0], [0], color='#bedf23', lw=4), \n",
    "                Line2D([0], [0], color='#be0119', lw=4, linestyle=\":\")]\n",
    "plt.legend(custom_lines, ['Bottom 25%', 'Middle 50%', 'Top 25%', 'Average'], fontsize=14)\n",
    "\n",
    "plt.title(\"Stop Spacing Distribution by Route\", fontsize=18)\n",
    "plt.savefig(\"PaperFigures_V2/Quartiles_allTrips_Weekdays\", bbox_inches='tight')\n",
    "plt.savefig(\"PaperFigures_V2/Quartiles_allTrips_Weekdays\", bbox_inches='tight', format='svg')\n",
    "\n",
    "plt.show()"
   ]
  },
  {
   "cell_type": "code",
   "execution_count": 20,
   "metadata": {},
   "outputs": [
    {
     "name": "stderr",
     "output_type": "stream",
     "text": [
      "<ipython-input-20-fc9070ba20d5>:27: UserWarning: FixedFormatter should only be used together with FixedLocator\n",
      "  ax.set_xticklabels(list(weekday_routes_92_allTrips.columns), fontsize=14)\n"
     ]
    },
    {
     "data": {
      "image/png": "[encoded data removed]",
      "text/plain": [
       "<Figure size 1440x432 with 1 Axes>"
      ]
     },
     "metadata": {
      "needs_background": "light"
     },
     "output_type": "display_data"
    }
   ],
   "source": [
    "fig, ax = plt.subplots(figsize=(20, 6))\n",
    "yscale = .8\n",
    "\n",
    "for i, col in enumerate(weekday_routes_92_allTrips.columns):\n",
    "    s = weekday_routes_92_allTrips[col]\n",
    "    x = i+1\n",
    "\n",
    "    y1 = s.quantile(0.75)/yscale\n",
    "    y2 = s.quantile(1)/yscale\n",
    "    #ax.plot((x, x), (y1, y2), color='#87ae73', linewidth=10, markersize=1, linestyle = \"-\", alpha=.9)\n",
    "    ax.axvline(x, ymin=y1, ymax=y2, color='#b6df00', linewidth=10, markersize=1, linestyle = \"-\", alpha=1, zorder=2)\n",
    "    \n",
    "    y1 = s.quantile(0.25)/yscale\n",
    "    y2 = s.quantile(0.75)/yscale\n",
    "    ax.axvline(x, ymin=y1, ymax=y2, color='#42928d', linewidth=10, markersize=1, linestyle = \"-\", alpha=1, zorder=3)\n",
    "    #ax.plot((x, x), (y1, y2), color='#b00149', linewidth=10, markersize=1, linestyle = \"-\", alpha=.9)\n",
    "\n",
    "    y1 = s.quantile(0)/yscale\n",
    "    y2 = s.quantile(0.25)/yscale\n",
    "    ax.axvline(x, ymin=y1, ymax=y2, color='#462d7c', linewidth=10, markersize=1, linestyle = \"-\", alpha=1, zorder=2)\n",
    "    #ax.plot((x, x), (y1, y2), color='#34013f', linewidth=10, markersize=1, linestyle = \"-\", alpha=.9)\n",
    "    \n",
    "ax.axhline(y=0.2585, xmin=0, xmax=47, color=\"#be0119\", alpha=.7, linestyle=\":\", lw=3, zorder=4)   \n",
    "\n",
    "ax.set_xlim(0.5, len(weekday_routes_92_allTrips.columns)+0.5)\n",
    "ax.set_ylim(0, yscale)\n",
    "ax.set_xticklabels(list(weekday_routes_92_allTrips.columns), fontsize=14)\n",
    "ax.set_xticks(range(1, len(weekday_routes_92_allTrips.columns)+1))\n",
    "    \n",
    "ax.spines['right'].set_visible(False)\n",
    "ax.spines['top'].set_visible(False)\n",
    "\n",
    "plt.xlabel(\"Weekday Bus Routes\", fontsize=16)\n",
    "plt.ylabel(\"Stop Distance (miles)\", fontsize=16)\n",
    "\n",
    "plt.yticks([.1, .2, .3, .4, .5, .6, .7, .8], fontsize=14)\n",
    "plt.grid(axis='y', linestyle='--', zorder=0)\n",
    "\n",
    "custom_lines = [Line2D([0], [0], color='#472777', lw=4), Line2D([0], [0], color='#1f918b', lw=4), Line2D([0], [0], color='#bedf23', lw=4), \n",
    "                Line2D([0], [0], color='#be0119', lw=4, linestyle=\":\")]\n",
    "#plt.legend(custom_lines, ['Bottom 25%', 'Middle 50%', 'Top 25%', 'Average'])\n",
    "\n",
    "#plt.title(\"Stop Spacing Distribution by Route\", fontsize=18)\n",
    "plt.savefig(\"PaperFigures_V2/Quartiles_allTrips_Weekdays_zoom\", bbox_inches='tight')\n",
    "plt.savefig(\"PaperFigures_V2/Quartiles_allTrips_Weekdays_zoom\", bbox_inches='tight', format='svg')\n",
    "\n",
    "plt.show()"
   ]
  },
  {
   "cell_type": "code",
   "execution_count": null,
   "metadata": {},
   "outputs": [],
   "source": []
  },
  {
   "cell_type": "code",
   "execution_count": null,
   "metadata": {},
   "outputs": [],
   "source": []
  }
 ],
 "metadata": {
  "kernelspec": {
   "display_name": "Python 3",
   "language": "python",
   "name": "python3"
  },
  "language_info": {
   "codemirror_mode": {
    "name": "ipython",
    "version": 3
   },
   "file_extension": ".py",
   "mimetype": "text/x-python",
   "name": "python",
   "nbconvert_exporter": "python",
   "pygments_lexer": "ipython3",
   "version": "3.8.2"
  }
 },
 "nbformat": 4,
 "nbformat_minor": 4
}
