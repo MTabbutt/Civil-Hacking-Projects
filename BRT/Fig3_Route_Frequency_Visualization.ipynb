{
 "cells": [
  {
   "cell_type": "code",
   "execution_count": 1,
   "metadata": {},
   "outputs": [
    {
     "data": {
      "text/html": [
       "<style>.container { width:80% !important; }</style>"
      ],
      "text/plain": [
       "<IPython.core.display.HTML object>"
      ]
     },
     "metadata": {},
     "output_type": "display_data"
    }
   ],
   "source": [
    "# Make Jupyter Notebook full screen \n",
    "from IPython.core.display import display, HTML\n",
    "display(HTML(\"<style>.container { width:80% !important; }</style>\"))"
   ]
  },
  {
   "cell_type": "code",
   "execution_count": 2,
   "metadata": {},
   "outputs": [],
   "source": [
    "import pandas as pd\n",
    "import numpy as np\n",
    "from scipy import stats\n",
    "import matplotlib.pyplot as plt\n",
    "from matplotlib.lines import Line2D\n",
    "import datetime\n",
    "import geopandas\n",
    "import random\n",
    "import math\n",
    "import matplotlib"
   ]
  },
  {
   "cell_type": "code",
   "execution_count": 3,
   "metadata": {},
   "outputs": [
    {
     "name": "stdout",
     "output_type": "stream",
     "text": [
      "GTFS data sets: \n"
     ]
    }
   ],
   "source": [
    "print(\"GTFS data sets: \")\n",
    "GTFS_DATA_PATH = \"mmt_gtfs/\"\n",
    "#import os; os.listdir(GTFS_DATA_PATH) # Peak whats in the directory "
   ]
  },
  {
   "cell_type": "code",
   "execution_count": 4,
   "metadata": {},
   "outputs": [],
   "source": [
    "def getPandasDFCSV(path, file, sep=','):  \n",
    "    \"\"\" Keyword Arg sep: deliminator used in txt file (default = ',')\"\"\"\n",
    "    pandasDF = pd.read_csv(path +  file, sep=sep)\n",
    "    return pandasDF"
   ]
  },
  {
   "cell_type": "code",
   "execution_count": 5,
   "metadata": {},
   "outputs": [],
   "source": [
    "stop_times_df = getPandasDFCSV(GTFS_DATA_PATH, 'stop_times.txt')\n",
    "#stop_times_df.info()\n",
    "#stop_times_df.head(3)"
   ]
  },
  {
   "cell_type": "code",
   "execution_count": 6,
   "metadata": {},
   "outputs": [],
   "source": [
    "# Fix the times from strings and bad formatting to datetime objects:\n",
    "\n",
    "arrivalTimesArray = np.array(stop_times_df['arrival_time'])\n",
    "\n",
    "arrivalTimesArrayFixed = []\n",
    "for time in arrivalTimesArray:\n",
    "    timeList = time.split(\":\")\n",
    "    timeList = [int(time) for time in timeList]\n",
    "    if timeList[0] < 24:\n",
    "        dateTime = datetime.datetime(2000, 1, 1, timeList[0], timeList[1], timeList[2])\n",
    "    else:\n",
    "        dateTime = datetime.datetime(2000, 1, 2, timeList[0]-24, timeList[1], timeList[2])\n",
    "    arrivalTimesArrayFixed.append(dateTime)\n",
    "    \n",
    "stop_times_df['arrival_time'] = arrivalTimesArrayFixed\n",
    "\n",
    "departureTimesArray = np.array(stop_times_df['departure_time'])\n",
    "\n",
    "departureTimesArrayFixed = []\n",
    "for time in departureTimesArray:\n",
    "    timeList = time.split(\":\")\n",
    "    timeList = [int(time) for time in timeList]\n",
    "    if timeList[0] < 24:\n",
    "        dateTime = datetime.datetime(2000, 1, 1, timeList[0], timeList[1], timeList[2])\n",
    "    else:\n",
    "        dateTime = datetime.datetime(2000, 1, 2, timeList[0]-24, timeList[1], timeList[2])\n",
    "    departureTimesArrayFixed.append(dateTime)\n",
    "    \n",
    "stop_times_df['departure_time'] = departureTimesArrayFixed\n",
    "\n",
    "#stop_times_df.head(3)"
   ]
  },
  {
   "cell_type": "code",
   "execution_count": 7,
   "metadata": {},
   "outputs": [],
   "source": [
    "#stop_times_df.head(3)"
   ]
  },
  {
   "cell_type": "code",
   "execution_count": 8,
   "metadata": {},
   "outputs": [],
   "source": [
    "trips_df = getPandasDFCSV(GTFS_DATA_PATH, 'trips.txt')\n",
    "#trips_df.info()\n",
    "#trips_df.head(3)"
   ]
  },
  {
   "cell_type": "code",
   "execution_count": 9,
   "metadata": {},
   "outputs": [],
   "source": [
    "stops_df = getPandasDFCSV(GTFS_DATA_PATH, 'stops.txt')\n",
    "#stops_df.info()\n",
    "#stops_df.head(3)"
   ]
  },
  {
   "cell_type": "code",
   "execution_count": 10,
   "metadata": {},
   "outputs": [
    {
     "name": "stdout",
     "output_type": "stream",
     "text": [
      "list of possible trips: \n",
      "\n",
      "['92_WKD', '92_SAT', '92_SUN', '92_HOL', '92_MWK', '92_WKD:R', '92_SAT:R', '92_SUN:R', '92_HOL:R', '92_SAT:L', '92_SUN:L', '92_WKD:L#6', '92_WKD:L=6', '92_WKD:S', '92_SAT:S', '92_SUN:S', '92_WKD:S#6', '92_WKD:S=6']\n"
     ]
    }
   ],
   "source": [
    "print(\"list of possible trips: \\n\")\n",
    "\n",
    "service_id_list = []\n",
    "for i in trips_df['service_id']:\n",
    "    if i not in service_id_list:\n",
    "        service_id_list.append(i)\n",
    "print(service_id_list)"
   ]
  },
  {
   "cell_type": "code",
   "execution_count": 11,
   "metadata": {},
   "outputs": [
    {
     "name": "stdout",
     "output_type": "stream",
     "text": [
      "list of possible routes: \n",
      "\n",
      "[2, 4, 5, 6, 7, 8, 10, 11, 12, 13, 15, 16, 17, 18, 20, 21, 22, 23, 26, 27, 30, 31, 32, 33, 36, 39, 40, 44, 48, 49, 50, 51, 52, 55, 59, 63, 67, 68, 70, 72, 73, 75, 78, 80, 81, 82, 84]\n"
     ]
    }
   ],
   "source": [
    "print(\"list of possible routes: \\n\")\n",
    "\n",
    "route_short_name_list = []\n",
    "for i in trips_df['route_short_name']:\n",
    "    if i not in route_short_name_list:\n",
    "        route_short_name_list.append(i)\n",
    "\n",
    "route_short_name_list.sort()\n",
    "print(route_short_name_list)"
   ]
  },
  {
   "cell_type": "code",
   "execution_count": 12,
   "metadata": {},
   "outputs": [],
   "source": [
    "trips_df_weekday_peak = trips_df[trips_df['service_id'] == '92_WKD']\n",
    "trips_df_weekday_peak_R = trips_df[trips_df['service_id'] == '92_WKD:R']\n",
    "trips_df_weekday_peak_s = trips_df[trips_df['service_id'] == '92_WKD:L#6']\n",
    "trips_df_weekday_peak_s3 = trips_df[trips_df['service_id'] == '92_WKD:L=6']\n",
    "trips_df_weekday_peak_s1 = trips_df[trips_df['service_id'] == '92_WKD:S']\n",
    "trips_df_weekday_peak_s2 = trips_df[trips_df['service_id'] == '92_WKD:S#6']\n",
    "trips_df_weekday_peak_s4 = trips_df[trips_df['service_id'] == '92_WKD:S=6']\n",
    "\n",
    "dfs_wk = [trips_df_weekday_peak, trips_df_weekday_peak_R, trips_df_weekday_peak_s, \n",
    "          trips_df_weekday_peak_s1, trips_df_weekday_peak_s2, trips_df_weekday_peak_s4]\n",
    "\n",
    "trips_df_weekday = pd.concat(dfs_wk)\n",
    "#trips_df_weekday.info()"
   ]
  },
  {
   "cell_type": "code",
   "execution_count": 13,
   "metadata": {},
   "outputs": [
    {
     "name": "stdout",
     "output_type": "stream",
     "text": [
      "Routes for weekday trips: \n",
      "\n",
      "[2, 4, 5, 6, 7, 8, 10, 11, 12, 13, 15, 16, 17, 18, 20, 21, 22, 23, 26, 27, 30, 31, 32, 33, 36, 39, 40, 44, 48, 49, 50, 51, 52, 55, 67, 70, 72, 73, 75, 80, 81, 82, 84]\n"
     ]
    }
   ],
   "source": [
    "print(\"Routes for weekday trips: \\n\")\n",
    "\n",
    "routes_wk_list = []\n",
    "for route in trips_df_weekday['route_short_name']:\n",
    "    if route not in routes_wk_list:\n",
    "        routes_wk_list.append(route)\n",
    "\n",
    "routes_wk_list.sort()\n",
    "print(routes_wk_list)"
   ]
  },
  {
   "cell_type": "code",
   "execution_count": 14,
   "metadata": {},
   "outputs": [
    {
     "name": "stdout",
     "output_type": "stream",
     "text": [
      "Dictionary of all the possible trips for each route during weekdays: \n",
      "\n",
      " Example output for 10 trips in route 2: \n",
      "\n",
      "[1009351, 1009352, 1009353, 1009366, 1009367, 1009368, 1009369, 1009362, 1009363, 1009364]\n"
     ]
    }
   ],
   "source": [
    "# make a dictionary of routes with trip ID's for weekday service:\n",
    "print(\"Dictionary of all the possible trips for each route during weekdays: \\n\\n Example output for 10 trips in route 2: \\n\")\n",
    "\n",
    "tripIDList_forRoutes_weekday92 = dict()\n",
    "for i in routes_wk_list:\n",
    "    trip_list = []\n",
    "    for j in trips_df_weekday[trips_df_weekday['route_short_name'] == i].iterrows():\n",
    "        trip_list.append(j[1]['trip_id'])\n",
    "    tripIDList_forRoutes_weekday92[i] = trip_list\n",
    "\n",
    "print(tripIDList_forRoutes_weekday92[10][:10])"
   ]
  },
  {
   "cell_type": "code",
   "execution_count": 15,
   "metadata": {},
   "outputs": [
    {
     "data": {
      "text/html": [
       "<div>\n",
       "<style scoped>\n",
       "    .dataframe tbody tr th:only-of-type {\n",
       "        vertical-align: middle;\n",
       "    }\n",
       "\n",
       "    .dataframe tbody tr th {\n",
       "        vertical-align: top;\n",
       "    }\n",
       "\n",
       "    .dataframe thead th {\n",
       "        text-align: right;\n",
       "    }\n",
       "</style>\n",
       "<table border=\"1\" class=\"dataframe\">\n",
       "  <thead>\n",
       "    <tr style=\"text-align: right;\">\n",
       "      <th></th>\n",
       "      <th>route_id</th>\n",
       "      <th>route_short_name</th>\n",
       "      <th>service_id</th>\n",
       "      <th>trip_id</th>\n",
       "      <th>trip_headsign</th>\n",
       "      <th>direction_id</th>\n",
       "      <th>direction_name</th>\n",
       "      <th>block_id</th>\n",
       "      <th>shape_id</th>\n",
       "      <th>shape_code</th>\n",
       "      <th>trip_type</th>\n",
       "      <th>trip_sort</th>\n",
       "      <th>wheelchair_accessible</th>\n",
       "      <th>bikes_allowed</th>\n",
       "    </tr>\n",
       "  </thead>\n",
       "  <tbody>\n",
       "    <tr>\n",
       "      <th>485</th>\n",
       "      <td>9036</td>\n",
       "      <td>11</td>\n",
       "      <td>92_WKD</td>\n",
       "      <td>985237</td>\n",
       "      <td>U.W. CAMPUS-DUTCH MILL</td>\n",
       "      <td>0</td>\n",
       "      <td>Dutch Mill</td>\n",
       "      <td>194441</td>\n",
       "      <td>55241</td>\n",
       "      <td>11E</td>\n",
       "      <td>W</td>\n",
       "      <td>23400</td>\n",
       "      <td>1</td>\n",
       "      <td>1</td>\n",
       "    </tr>\n",
       "  </tbody>\n",
       "</table>\n",
       "</div>"
      ],
      "text/plain": [
       "     route_id  route_short_name service_id  trip_id           trip_headsign  \\\n",
       "485      9036                11     92_WKD   985237  U.W. CAMPUS-DUTCH MILL   \n",
       "\n",
       "     direction_id direction_name  block_id  shape_id shape_code trip_type  \\\n",
       "485             0     Dutch Mill    194441     55241        11E         W   \n",
       "\n",
       "     trip_sort  wheelchair_accessible  bikes_allowed  \n",
       "485      23400                      1              1  "
      ]
     },
     "execution_count": 15,
     "metadata": {},
     "output_type": "execute_result"
    }
   ],
   "source": [
    "trips_df[trips_df['trip_id'] == 985237]"
   ]
  },
  {
   "cell_type": "code",
   "execution_count": 16,
   "metadata": {},
   "outputs": [],
   "source": [
    "#stop_times_df[stop_times_df['trip_id']==985237]"
   ]
  },
  {
   "cell_type": "code",
   "execution_count": 17,
   "metadata": {},
   "outputs": [],
   "source": [
    "hours = [i for i in range(24)]"
   ]
  },
  {
   "cell_type": "code",
   "execution_count": 18,
   "metadata": {},
   "outputs": [],
   "source": [
    "route_freq_all = dict()\n",
    "for route in routes_wk_list:\n",
    "    if route == 80:\n",
    "        continue\n",
    "    route_frequency = dict()\n",
    "    for timeHour in range(24):\n",
    "        directionRef = -999\n",
    "        for trip in tripIDList_forRoutes_weekday92[route]:\n",
    "            midpoint = int(len(stop_times_df[stop_times_df['trip_id']==trip])/2)\n",
    "            localDF = stop_times_df[stop_times_df['trip_id']==trip]\n",
    "            time = localDF.loc[localDF['stop_sequence']==midpoint, 'arrival_time'].item()\n",
    "            hour = time.hour\n",
    "            direction = trips_df.loc[trips_df['trip_id']==trip, 'direction_id'].item()\n",
    "            if directionRef == -999 and timeHour == hour:\n",
    "                directionRef = direction\n",
    "            if timeHour == hour and direction == directionRef:\n",
    "                if hour not in route_frequency:\n",
    "                    route_frequency[hour] = 1\n",
    "                else:\n",
    "                    route_frequency[hour] += 1\n",
    "    route_freq_all[route] = route_frequency\n",
    "        \n",
    "#route_freq_all"
   ]
  },
  {
   "cell_type": "code",
   "execution_count": 19,
   "metadata": {},
   "outputs": [
    {
     "name": "stdout",
     "output_type": "stream",
     "text": [
      "{2: {5: 1, 6: 2, 7: 2, 8: 2, 9: 2, 10: 2, 11: 2, 12: 2, 13: 2, 14: 2, 15: 2, 16: 2, 17: 2, 18: 2, 19: 2, 20: 2, 21: 2, 22: 2, 23: 1}, 4: {5: 1, 6: 2, 7: 2, 8: 2, 9: 2, 10: 2, 11: 2, 12: 2, 13: 2, 14: 2, 15: 2, 16: 2, 17: 2, 18: 1, 19: 1, 20: 1, 21: 1, 22: 1}, 5: {5: 1, 6: 2, 7: 2, 8: 2, 9: 2, 10: 2, 11: 2, 12: 2, 13: 2, 14: 2, 15: 2, 16: 2, 17: 2, 18: 2, 19: 1, 20: 1, 21: 1, 22: 1, 23: 1}, 6: {5: 1, 6: 2, 7: 2, 8: 2, 9: 2, 10: 2, 11: 2, 12: 2, 13: 2, 14: 2, 15: 2, 16: 2, 17: 2, 18: 2, 19: 2, 20: 2, 21: 2, 22: 3, 23: 1}, 7: {5: 1, 6: 2, 7: 2, 8: 2, 9: 2, 10: 2, 11: 2, 12: 2, 13: 2, 14: 2, 15: 2, 16: 2, 17: 2, 18: 2, 19: 2, 20: 2, 21: 2, 22: 2}, 8: {7: 2, 8: 2, 9: 2, 10: 2, 11: 2, 12: 2, 13: 2, 14: 2, 15: 2, 16: 2, 17: 2, 18: 1, 19: 1, 20: 1, 21: 1, 22: 1}, 10: {6: 1, 7: 4, 8: 4, 9: 4, 10: 4, 11: 4, 12: 4, 13: 4, 14: 4, 15: 4, 16: 4, 17: 4, 18: 2}, 11: {6: 1, 7: 1, 8: 1, 9: 1, 15: 2, 16: 1, 17: 1}, 12: {6: 1, 7: 1, 8: 1, 9: 1, 14: 1, 15: 1, 16: 1, 17: 1}, 13: {5: 1, 6: 1, 7: 1, 8: 1, 9: 1, 10: 1, 11: 1, 12: 1, 13: 1, 14: 1, 15: 1, 16: 1, 17: 1, 18: 1, 19: 1, 20: 1, 21: 1, 22: 1, 23: 1}, 15: {6: 1, 7: 2, 8: 2, 9: 2, 10: 1, 11: 1, 12: 1, 13: 1, 14: 1, 15: 2, 16: 2, 17: 2, 18: 1, 19: 1, 20: 1, 21: 1, 22: 1}, 16: {5: 1, 6: 3, 7: 2, 8: 2, 9: 2, 10: 2, 11: 2, 12: 2, 13: 2, 14: 2, 15: 2, 16: 2, 17: 2, 18: 1, 19: 1, 20: 1, 21: 1, 22: 2}, 17: {6: 1, 7: 2, 8: 2, 9: 2, 10: 2, 11: 2, 12: 2, 13: 2, 14: 2, 15: 2, 16: 2, 17: 2, 18: 2, 19: 2, 20: 2, 21: 2, 22: 2}, 18: {5: 1, 6: 2, 7: 2, 8: 2, 9: 2, 10: 2, 11: 2, 12: 2, 13: 2, 14: 2, 15: 2, 16: 2, 17: 2, 18: 2, 19: 2, 20: 2, 21: 2, 22: 2, 23: 1}, 20: {6: 2, 7: 2, 8: 2, 9: 2, 10: 2, 11: 2, 12: 2, 13: 2, 14: 2, 15: 2, 16: 2, 17: 2, 18: 2, 19: 2, 20: 2, 21: 2, 22: 1}, 21: {5: 1, 6: 2, 7: 2, 8: 2, 9: 2, 10: 2, 11: 2, 12: 2, 13: 2, 14: 2, 15: 2, 16: 2, 17: 2, 18: 1, 19: 1, 20: 1, 21: 1, 22: 2}, 22: {5: 2, 6: 2, 7: 2, 8: 2, 9: 2, 10: 2, 11: 2, 12: 2, 13: 2, 14: 2, 15: 2, 16: 2, 17: 2, 18: 2, 19: 1, 20: 1, 21: 1, 22: 1}, 23: {6: 1, 7: 2, 8: 1, 16: 2, 17: 2}, 26: {6: 1, 7: 2, 8: 2, 9: 2, 10: 2, 11: 2, 12: 2, 13: 2, 14: 2, 15: 2, 16: 2, 17: 2, 18: 2, 19: 2, 20: 2, 21: 2, 22: 2}, 27: {6: 1, 7: 2, 8: 1, 15: 1, 16: 2, 17: 2, 18: 1}, 30: {5: 1, 6: 2, 7: 2, 8: 2, 9: 2, 10: 2, 11: 2, 12: 2, 13: 2, 14: 2, 15: 2, 16: 2, 17: 2, 18: 2, 19: 2, 20: 2, 21: 2, 22: 1}, 31: {6: 1, 7: 1, 8: 1, 9: 1, 10: 1, 11: 1, 12: 1, 13: 1, 14: 1, 15: 1, 16: 1, 17: 1, 18: 1, 19: 1, 20: 1, 21: 1, 22: 1}, 32: {6: 1, 7: 1, 8: 1, 9: 1, 10: 1, 11: 1, 12: 1, 13: 1, 14: 1, 15: 1, 16: 1, 17: 1, 18: 1, 19: 1, 20: 1, 21: 1, 22: 1}, 33: {5: 1, 6: 2, 7: 2, 8: 1, 15: 1, 16: 2, 17: 2, 18: 1}, 36: {7: 1, 8: 1, 9: 1, 10: 1, 11: 1, 12: 1, 13: 1, 14: 1, 15: 1, 16: 1, 17: 1, 18: 1, 19: 1, 20: 1, 21: 1, 22: 1}, 39: {6: 1, 7: 1, 8: 1, 9: 1, 10: 1, 11: 1, 12: 1, 13: 1, 14: 1, 15: 1, 16: 1, 17: 1}, 40: {5: 1, 6: 1, 7: 1, 8: 1, 9: 1, 10: 1, 11: 1, 12: 1, 13: 1, 14: 1, 15: 1, 16: 1, 17: 1, 18: 1, 19: 1, 20: 1, 21: 1, 22: 1}, 44: {6: 2, 7: 2, 8: 2, 9: 1, 14: 1, 15: 1, 16: 2, 17: 2, 18: 1}, 48: {6: 1, 7: 2, 16: 1, 17: 2}, 49: {6: 2, 7: 2, 8: 1, 16: 2, 17: 2, 18: 1}, 50: {5: 1, 6: 2, 7: 2, 8: 2, 9: 2, 10: 2, 11: 2, 12: 2, 13: 2, 14: 2, 15: 2, 16: 2, 17: 2, 18: 2, 19: 2, 20: 2, 21: 2, 22: 2, 23: 1}, 51: {5: 1, 6: 1, 7: 1, 8: 1, 9: 1, 10: 1, 11: 1, 12: 1, 13: 1, 14: 1, 15: 1, 16: 1, 17: 1, 18: 1, 19: 1, 20: 1, 21: 1, 22: 1}, 52: {6: 1, 7: 1, 8: 1, 9: 1, 10: 1, 11: 1, 12: 1, 13: 1, 14: 1, 15: 1, 16: 1, 17: 1, 18: 1, 19: 1, 20: 1, 21: 1, 22: 1}, 55: {6: 1, 7: 1, 8: 1, 16: 1, 17: 2, 18: 1}, 67: {5: 1, 6: 2, 7: 2, 8: 2, 9: 2, 10: 2, 11: 2, 12: 2, 13: 2, 14: 2, 15: 2, 16: 2, 17: 2, 18: 2, 19: 2, 20: 2, 21: 2, 22: 2}, 70: {5: 1, 6: 1, 7: 1, 8: 1, 9: 1, 10: 1, 11: 1, 12: 1, 13: 1, 14: 1, 15: 1, 16: 1, 17: 1, 18: 1, 19: 1, 20: 1, 21: 1, 22: 1}, 72: {6: 1, 7: 2, 8: 1, 15: 2, 16: 2, 17: 2, 18: 1}, 73: {5: 1, 6: 1, 7: 1, 8: 1, 9: 1, 10: 1, 11: 1, 12: 1, 13: 1, 14: 1, 15: 1, 16: 1, 17: 1, 18: 1, 19: 1, 20: 1, 21: 1, 22: 1, 23: 1}, 75: {6: 2, 7: 1, 8: 2, 16: 2, 17: 1, 18: 2}, 81: {0: 2, 1: 2, 18: 1, 19: 2, 20: 2, 21: 2, 22: 2, 23: 2}, 82: {0: 2, 1: 2, 2: 1, 19: 2, 20: 2, 21: 2, 22: 2, 23: 2}, 84: {9: 4, 10: 4, 11: 4, 12: 4, 13: 4, 14: 4, 15: 4, 16: 5, 17: 4, 18: 4}}\n"
     ]
    }
   ],
   "source": [
    "print(route_freq_all)"
   ]
  },
  {
   "cell_type": "code",
   "execution_count": 20,
   "metadata": {},
   "outputs": [],
   "source": [
    "routes_wk_list_no80 = [i for i in routes_wk_list if i != 80]\n",
    "\n",
    "m = [[0]*24 for i in range(len(routes_wk_list_no80))]\n",
    "w = [[0]*(len(routes_wk_list_no80)) for i in range(24)]\n",
    "for i, route in enumerate(routes_wk_list_no80):\n",
    "    if route == 80:\n",
    "        continue\n",
    "    #print(\"i \", i, \" route \", route)\n",
    "    for j in range(24):\n",
    "        if j in route_freq_all[route]:\n",
    "            m[i][j] = route_freq_all[route][j]\n",
    "            w[j][i] = route_freq_all[route][j]\n",
    "    #print(m[i])\n",
    "    #print()"
   ]
  },
  {
   "cell_type": "code",
   "execution_count": 21,
   "metadata": {},
   "outputs": [
    {
     "name": "stderr",
     "output_type": "stream",
     "text": [
      "<ipython-input-21-127f08f6e7b9>:7: UserWarning: FixedFormatter should only be used together with FixedLocator\n",
      "  ax.set_xticklabels(list(routes_wk_list_no80))\n",
      "<ipython-input-21-127f08f6e7b9>:10: UserWarning: FixedFormatter should only be used together with FixedLocator\n",
      "  ax.set_yticklabels([\"12am\", \"2am\", \"4am\", \"6am\", \"8am\", \"10am\", \"12pm\", \"2pm\", \"4pm\", \"6pm\", \"8pm\", \"10pm\"])\n",
      "<ipython-input-21-127f08f6e7b9>:14: MatplotlibDeprecationWarning: The 'cmap' parameter to Colorbar has no effect because it is overridden by the mappable; it is deprecated since 3.3 and will be removed two minor releases later.\n",
      "  cbar = plt.colorbar(ax=ax, pad=.01, cmap=cmap, ticks=[(5/12), 3*(5/12), 5*(5/12), 7*(5/12), 9*(5/12), 11*(5/12)])\n"
     ]
    },
    {
     "data": {
      "image/png": "[encoded data removed]",
      "text/plain": [
       "<Figure size 1440x576 with 2 Axes>"
      ]
     },
     "metadata": {
      "needs_background": "light"
     },
     "output_type": "display_data"
    }
   ],
   "source": [
    "ax = plt.subplots(figsize=(20, 8))[1]\n",
    "\n",
    "cmap = matplotlib.cm.get_cmap(\"viridis\", 6)\n",
    "\n",
    "plt.imshow(w, cmap=cmap, interpolation='nearest', aspect='auto')\n",
    "\n",
    "ax.set_xticklabels(list(routes_wk_list_no80))\n",
    "ax.set_xticks(range(0, len(routes_wk_list_no80)))\n",
    "\n",
    "ax.set_yticklabels([\"12am\", \"2am\", \"4am\", \"6am\", \"8am\", \"10am\", \"12pm\", \"2pm\", \"4pm\", \"6pm\", \"8pm\", \"10pm\"])\n",
    "ax.set_yticks(range(0, 24, 2))\n",
    "\n",
    "colorbarTicks=[\"N/A\", \"60min\", \"30min\", \"20min\", \"15min\", \"12min\"]\n",
    "cbar = plt.colorbar(ax=ax, pad=.01, cmap=cmap, ticks=[(5/12), 3*(5/12), 5*(5/12), 7*(5/12), 9*(5/12), 11*(5/12)])\n",
    "#cbar.set_label('Bus Frequency', fontsize=16)\n",
    "cbar.ax.set_yticklabels(colorbarTicks)\n",
    "\n",
    "plt.title(\"Weekday Bus Frequency\", fontsize=18)\n",
    "plt.xlabel(\"Route\")\n",
    "plt.savefig('PaperFigures/FrequencyHeatMap', bbox_inches='tight')\n",
    "plt.show()"
   ]
  },
  {
   "cell_type": "code",
   "execution_count": null,
   "metadata": {},
   "outputs": [],
   "source": []
  },
  {
   "cell_type": "code",
   "execution_count": null,
   "metadata": {},
   "outputs": [],
   "source": []
  }
 ],
 "metadata": {
  "kernelspec": {
   "display_name": "Python 3",
   "language": "python",
   "name": "python3"
  },
  "language_info": {
   "codemirror_mode": {
    "name": "ipython",
    "version": 3
   },
   "file_extension": ".py",
   "mimetype": "text/x-python",
   "name": "python",
   "nbconvert_exporter": "python",
   "pygments_lexer": "ipython3",
   "version": "3.8.2"
  }
 },
 "nbformat": 4,
 "nbformat_minor": 4
}
