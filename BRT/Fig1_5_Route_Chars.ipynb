{
 "cells": [
  {
   "cell_type": "markdown",
   "metadata": {},
   "source": [
    "# Notes:\n",
    "\n",
    "## fix tick marks on distribution to be only at .1 mile marks "
   ]
  },
  {
   "cell_type": "code",
   "execution_count": null,
   "metadata": {},
   "outputs": [],
   "source": [
    "# Make Jupyter Notebook full screen \n",
    "from IPython.core.display import display, HTML\n",
    "display(HTML(\"<style>.container { width:80% !important; }</style>\"))"
   ]
  },
  {
   "cell_type": "markdown",
   "metadata": {},
   "source": [
    "Objective: Identify route and stop characteristics:\n",
    "\n",
    "- Speed of route\n",
    "- Ridership at stops\n",
    "- Route spacing"
   ]
  },
  {
   "cell_type": "code",
   "execution_count": null,
   "metadata": {},
   "outputs": [],
   "source": [
    "import pandas as pd\n",
    "import numpy as np\n",
    "from scipy import stats\n",
    "import matplotlib.pyplot as plt\n",
    "from matplotlib.lines import Line2D\n",
    "import datetime\n",
    "import geopandas\n",
    "import random\n",
    "import math"
   ]
  },
  {
   "cell_type": "code",
   "execution_count": null,
   "metadata": {},
   "outputs": [],
   "source": [
    "print(\"GTFS data sets: \")\n",
    "GTFS_DATA_PATH = \"mmt_gtfs/\"\n",
    "import os; os.listdir(GTFS_DATA_PATH) # Peak whats in the directory "
   ]
  },
  {
   "cell_type": "code",
   "execution_count": null,
   "metadata": {},
   "outputs": [],
   "source": [
    "def getPandasDFCSV(path, file, sep=','):  \n",
    "    \"\"\" Keyword Arg sep: deliminator used in txt file (default = ',')\"\"\"\n",
    "    pandasDF = pd.read_csv(path +  file, sep=sep)\n",
    "    return pandasDF"
   ]
  },
  {
   "cell_type": "code",
   "execution_count": null,
   "metadata": {},
   "outputs": [],
   "source": [
    "stops_df = getPandasDFCSV(GTFS_DATA_PATH, 'stops.txt')\n",
    "#stops_df.head()"
   ]
  },
  {
   "cell_type": "code",
   "execution_count": null,
   "metadata": {},
   "outputs": [],
   "source": [
    "ridership_df = getPandasDFCSV(GTFS_DATA_PATH, 'Metro_Transit_Ridership_by_Route_Weekday.csv')\n",
    "#ridership_df"
   ]
  },
  {
   "cell_type": "code",
   "execution_count": null,
   "metadata": {},
   "outputs": [],
   "source": [
    "stop_times_df = getPandasDFCSV(GTFS_DATA_PATH, 'stop_times.txt')\n",
    "#stop_times_df.info()\n",
    "#stop_times_df.head(3)"
   ]
  },
  {
   "cell_type": "code",
   "execution_count": null,
   "metadata": {},
   "outputs": [],
   "source": [
    "# Fix the times from strings and bad formatting to datetime objects:\n",
    "\n",
    "arrivalTimesArray = np.array(stop_times_df['arrival_time'])\n",
    "\n",
    "arrivalTimesArrayFixed = []\n",
    "for time in arrivalTimesArray:\n",
    "    timeList = time.split(\":\")\n",
    "    timeList = [int(time) for time in timeList]\n",
    "    if timeList[0] < 24:\n",
    "        dateTime = datetime.datetime(2000, 1, 1, timeList[0], timeList[1], timeList[2])\n",
    "    else:\n",
    "        dateTime = datetime.datetime(2000, 1, 2, timeList[0]-24, timeList[1], timeList[2])\n",
    "    arrivalTimesArrayFixed.append(dateTime)\n",
    "    \n",
    "stop_times_df['arrival_time'] = arrivalTimesArrayFixed\n",
    "\n",
    "departureTimesArray = np.array(stop_times_df['departure_time'])\n",
    "\n",
    "departureTimesArrayFixed = []\n",
    "for time in departureTimesArray:\n",
    "    timeList = time.split(\":\")\n",
    "    timeList = [int(time) for time in timeList]\n",
    "    if timeList[0] < 24:\n",
    "        dateTime = datetime.datetime(2000, 1, 1, timeList[0], timeList[1], timeList[2])\n",
    "    else:\n",
    "        dateTime = datetime.datetime(2000, 1, 2, timeList[0]-24, timeList[1], timeList[2])\n",
    "    departureTimesArrayFixed.append(dateTime)\n",
    "    \n",
    "stop_times_df['departure_time'] = departureTimesArrayFixed\n",
    "\n",
    "#stop_times_df.head()"
   ]
  },
  {
   "cell_type": "code",
   "execution_count": null,
   "metadata": {},
   "outputs": [],
   "source": [
    "#stop_times_df.head()"
   ]
  },
  {
   "cell_type": "code",
   "execution_count": null,
   "metadata": {},
   "outputs": [],
   "source": [
    "trips_df = getPandasDFCSV(GTFS_DATA_PATH, 'trips.txt')\n",
    "#trips_df.info()\n",
    "#trips_df.head(3)"
   ]
  },
  {
   "cell_type": "code",
   "execution_count": null,
   "metadata": {},
   "outputs": [],
   "source": [
    "stops_df = getPandasDFCSV(GTFS_DATA_PATH, 'stops.txt')\n",
    "#stops_df.info()\n",
    "#stops_df.head(3)"
   ]
  },
  {
   "cell_type": "code",
   "execution_count": null,
   "metadata": {},
   "outputs": [],
   "source": [
    "print(\"list of possible trips: \\n\")\n",
    "\n",
    "service_id_list = []\n",
    "for i in trips_df['service_id']:\n",
    "    if i not in service_id_list:\n",
    "        service_id_list.append(i)\n",
    "print(service_id_list)"
   ]
  },
  {
   "cell_type": "code",
   "execution_count": null,
   "metadata": {},
   "outputs": [],
   "source": [
    "print(\"list of possible routes: \\n\")\n",
    "\n",
    "route_short_name_list = []\n",
    "for i in trips_df['route_short_name']:\n",
    "    if i not in route_short_name_list:\n",
    "        route_short_name_list.append(i)\n",
    "\n",
    "route_short_name_list.sort()\n",
    "print(route_short_name_list)"
   ]
  },
  {
   "cell_type": "code",
   "execution_count": null,
   "metadata": {},
   "outputs": [],
   "source": [
    "trips_df_weekday_peak = trips_df[trips_df['service_id'] == '92_WKD']\n",
    "trips_df_weekday_peak_R = trips_df[trips_df['service_id'] == '92_WKD:R']\n",
    "trips_df_weekday_peak_s = trips_df[trips_df['service_id'] == '92_WKD:L#6']\n",
    "trips_df_weekday_peak_s3 = trips_df[trips_df['service_id'] == '92_WKD:L=6']\n",
    "trips_df_weekday_peak_s1 = trips_df[trips_df['service_id'] == '92_WKD:S']\n",
    "trips_df_weekday_peak_s2 = trips_df[trips_df['service_id'] == '92_WKD:S#6']\n",
    "trips_df_weekday_peak_s4 = trips_df[trips_df['service_id'] == '92_WKD:S=6']\n",
    "\n",
    "dfs_wk = [trips_df_weekday_peak, trips_df_weekday_peak_R, trips_df_weekday_peak_s, \n",
    "          trips_df_weekday_peak_s1, trips_df_weekday_peak_s2, trips_df_weekday_peak_s4]\n",
    "\n",
    "trips_df_weekday = pd.concat(dfs_wk)\n",
    "#trips_df_weekday.info()"
   ]
  },
  {
   "cell_type": "code",
   "execution_count": null,
   "metadata": {},
   "outputs": [],
   "source": [
    "print(\"Routes for weekday trips: \\n\")\n",
    "\n",
    "routes_wk_list = []\n",
    "for route in trips_df_weekday['route_short_name']:\n",
    "    if route not in routes_wk_list:\n",
    "        routes_wk_list.append(route)\n",
    "\n",
    "routes_wk_list.sort()\n",
    "print(routes_wk_list)"
   ]
  },
  {
   "cell_type": "code",
   "execution_count": null,
   "metadata": {},
   "outputs": [],
   "source": [
    "# make a dictionary of routes with trip ID's for weekday service:\n",
    "print(\"Dictionary of all the possible trips for each route during weekdays: \\n\\n Example output for 10 trips in route 2: \\n\")\n",
    "\n",
    "tripIDList_forRoutes_weekday92 = dict()\n",
    "for i in routes_wk_list:\n",
    "    trip_list = []\n",
    "    for j in trips_df_weekday[trips_df_weekday['route_short_name'] == i].iterrows():\n",
    "        trip_list.append(j[1]['trip_id'])\n",
    "    tripIDList_forRoutes_weekday92[i] = trip_list\n",
    "\n",
    "print(tripIDList_forRoutes_weekday92[2][:10])"
   ]
  },
  {
   "cell_type": "markdown",
   "metadata": {},
   "source": [
    "# Find average speed for each route: \n",
    "\n",
    "total distance travelled by route / time the route took"
   ]
  },
  {
   "cell_type": "code",
   "execution_count": null,
   "metadata": {},
   "outputs": [],
   "source": [
    "ridership_df[ridership_df['Route'] == 7]\n",
    "\n",
    "totalRiders = np.sum(list(ridership_df['DailyBoardings']))"
   ]
  },
  {
   "cell_type": "code",
   "execution_count": null,
   "metadata": {},
   "outputs": [],
   "source": [
    "# Each route has a list [average speed, average stop spacing, percent of total ridership]\n",
    "\n",
    "route_stops = dict()\n",
    "\n",
    "totalRidersAll = np.sum(list(ridership_df['DailyBoardings']))\n",
    "\n",
    "route_characteristics = dict()\n",
    "for route in tripIDList_forRoutes_weekday92:\n",
    "    route_characteristics[route] = []\n",
    "    route_stops[route] = []\n",
    "    \n",
    "    stops_list = []\n",
    "    route_trips_speeds = []\n",
    "    route_trips_distances = []\n",
    "    stop_spacing_all = []\n",
    "    farthest_distances = []\n",
    "    for trip in tripIDList_forRoutes_weekday92[route]:\n",
    "        \n",
    "        # Find speeeds: \n",
    "        stop_times_df_local = stop_times_df[stop_times_df['trip_id'] == trip]\n",
    "        distance = list(stop_times_df_local['shape_dist_traveled'])[-1]\n",
    "        time = list(stop_times_df_local['departure_time'])[-1] - list(stop_times_df_local['departure_time'])[0]\n",
    "        speed = distance / (time.seconds / 3600)\n",
    "        route_trips_speeds.append(speed)\n",
    "        \n",
    "        # Find average route spacing:\n",
    "        spacing_list = []\n",
    "        spacing = list(stop_times_df_local['shape_dist_traveled'])\n",
    "        spacing.insert(0, 0.0)\n",
    "        for i in range(len(spacing)-1):\n",
    "            stop_spacing = spacing[i+1] - spacing[i]\n",
    "            spacing_list.append(stop_spacing)\n",
    "            stop_spacing_all.append(stop_spacing)\n",
    "        route_trips_distances.append(np.average(spacing_list))\n",
    "           \n",
    "        # Add stops to dictionary:\n",
    "        for stop in stop_times_df_local['stop_id']:\n",
    "            if stop not in stops_list:\n",
    "                stops_list.append(stop)\n",
    "                \n",
    "        #farthest distances:\n",
    "        farthest_distances.append(spacing[-1])\n",
    "        \n",
    "    # Get daily boardings:\n",
    "    route_df = ridership_df[ridership_df['Route'] == route]\n",
    "    totalRiders = np.sum(list(route_df['DailyBoardings']))\n",
    "    fractionOfTotalRiders = totalRiders/totalRidersAll\n",
    "    \n",
    "    # get the distribution of stop spacings:\n",
    "    stop_spacing_dict = dict()\n",
    "    stop_spacing_all.sort()\n",
    "    for i in stop_spacing_all:\n",
    "        if i not in stop_spacing_dict:\n",
    "            stop_spacing_dict[i] = 1\n",
    "        else:\n",
    "            stop_spacing_dict[i] += 1\n",
    "    \n",
    "    route_characteristics[route].append(np.average(route_trips_speeds))\n",
    "    route_characteristics[route].append(np.average(route_trips_distances))\n",
    "    route_characteristics[route].append(fractionOfTotalRiders)\n",
    "    route_characteristics[route].append(stop_spacing_dict)\n",
    "    route_characteristics[route].append(np.average(farthest_distances))\n",
    "    route_stops[route] = stops_list\n",
    "    \n",
    "\n",
    "#route_characteristics[27]"
   ]
  },
  {
   "cell_type": "markdown",
   "metadata": {},
   "source": [
    "## Plotting the Routes and Characteriestics:"
   ]
  },
  {
   "cell_type": "code",
   "execution_count": null,
   "metadata": {},
   "outputs": [],
   "source": [
    "Routes_latLon = dict()\n",
    "\n",
    "for route in routes_wk_list:\n",
    "    lat = []\n",
    "    lon = []\n",
    "    stops = route_stops[route]\n",
    "    for stop in stops:\n",
    "        stops_local = stops_df[stops_df['stop_id'] == stop]\n",
    "        lat.append(float(stops_local['stop_lat']))\n",
    "        lon.append(float(stops_local['stop_lon']))\n",
    "    Routes_latLon[route] = [lat, lon]"
   ]
  },
  {
   "cell_type": "code",
   "execution_count": null,
   "metadata": {},
   "outputs": [],
   "source": [
    "riderships = []\n",
    "for route in route_characteristics:\n",
    "    if route == 80: \n",
    "        continue\n",
    "    riderships.append(route_characteristics[route][2])\n",
    "\n",
    "ridership_avg_no_80 = np.average(riderships)\n",
    "ridership_avg_no_80\n",
    "\n",
    "Speeds = []\n",
    "for route in route_characteristics:\n",
    "    if route == 80: \n",
    "        continue\n",
    "    Speeds.append(route_characteristics[route][0])\n",
    "\n",
    "Speeds_avg_no_80 = np.average(Speeds)\n",
    "Speeds_avg_no_80\n",
    "\n",
    "spacing = []\n",
    "for route in route_characteristics:\n",
    "    if route == 80: \n",
    "        continue\n",
    "    spacing.append(route_characteristics[route][1])\n",
    "\n",
    "Spacing_avg_no_80 = np.average(spacing)\n",
    "Spacing_avg_no_80\n",
    "\n",
    "std_dev = []\n",
    "for route in route_characteristics:\n",
    "    if route == 80: \n",
    "        continue\n",
    "    std_dev.append(np.sqrt(np.var(list(route_characteristics[route][3].keys()))))\n",
    "\n",
    "std_dev_avg_no_80 = np.average(std_dev)\n",
    "std_dev_avg_no_80\n",
    "\n",
    "farthest_dist = []\n",
    "for route in route_characteristics:\n",
    "    if route == 80: \n",
    "        continue\n",
    "    farthest_dist.append(route_characteristics[route][4])\n",
    "\n",
    "farthest_dist_avg_no_80 = np.average(farthest_dist)\n",
    "farthest_dist_avg_no_80\n",
    "\n",
    "print(ridership_avg_no_80, Speeds_avg_no_80, Spacing_avg_no_80, std_dev_avg_no_80, farthest_dist_avg_no_80)"
   ]
  },
  {
   "cell_type": "code",
   "execution_count": null,
   "metadata": {},
   "outputs": [],
   "source": [
    "maxxx = 0\n",
    "for route in routes_wk_list:\n",
    "    dist = list(route_characteristics[route][3].keys())\n",
    "    if max(dist) > maxxx:\n",
    "        maxxx = max(dist)\n",
    "        \n",
    "maxxx"
   ]
  },
  {
   "cell_type": "code",
   "execution_count": null,
   "metadata": {},
   "outputs": [],
   "source": [
    "colors_uniform = {1: ['#020035'], 2:[\"#769958\"], 3:[\"#a24857\", \"#276ab3\", \"#c9643b\"]}"
   ]
  },
  {
   "cell_type": "code",
   "execution_count": null,
   "metadata": {},
   "outputs": [],
   "source": [
    "city = geopandas.read_file(\"shapes/City\")\n",
    "lakes = geopandas.read_file(\"shapes/Lakes\")\n",
    "Street = geopandas.read_file(\"shapes/Street\")"
   ]
  },
  {
   "cell_type": "code",
   "execution_count": null,
   "metadata": {},
   "outputs": [],
   "source": [
    "def plotRouteCharacteristics_colors(route):\n",
    "    ax = plt.subplots(1, 3, figsize=(35, 9), frameon=False, gridspec_kw={'width_ratios': [1.5, 1.8, 1.4]})[1]\n",
    "\n",
    "    ### Plot 1: Add the geopandas backgroud:\n",
    "    city.plot(color=\"lightgray\", alpha=.2, ax=ax[0], zorder=2)\n",
    "    lakes.plot(color=\"lightblue\", ax=ax[0], zorder=1, alpha=.8)\n",
    "    Street.plot(color=\"darkgray\", alpha = .5, ax=ax[0], zorder=3)\n",
    "\n",
    "    ### Plot 2: Add the routes on top:\n",
    "    x = Routes_latLon[route][1]\n",
    "    y = Routes_latLon[route][0]\n",
    "    \n",
    "    # Look for specific colors or default to green\n",
    "    ax[0].scatter(x, y, label=\"Route stops\", color=\"#410056\", zorder=4, marker='o', s=20)\n",
    "        \n",
    "    ax[0].set_xlim(min(Routes_latLon[route][1])-.01, max(Routes_latLon[route][1])+.01)\n",
    "    ax[0].set_ylim(min(Routes_latLon[route][0])-.005, max(Routes_latLon[route][0])+.005)\n",
    "    ax[0].set_xticks([])\n",
    "    ax[0].set_yticks([])\n",
    "    ax[0].legend()\n",
    "    ax[0].set_title(\"Route Map\", fontsize=18)\n",
    "\n",
    "    ### Plot 3: Bar plot to the right summarizing stats\n",
    "    ridership_perc_avg = route_characteristics[route][2]/ridership_avg_no_80\n",
    "    speed_perc_avg = route_characteristics[route][0]/Speeds_avg_no_80\n",
    "    spacing_perc_avg = route_characteristics[route][1]/Spacing_avg_no_80\n",
    "    std_dev = np.sqrt(np.var(list(route_characteristics[route][3].keys())))/std_dev_avg_no_80\n",
    "    farthest_dist_avg = route_characteristics[route][4]/farthest_dist_avg_no_80\n",
    "\n",
    "    x_labels = [\"Ridership\", \"Speed\", \"Farthest Distance\", \"Stop Spacing\", \"Std Deviation \\n of Spacing\"]\n",
    "    hist_x = (1, 2, 3, 4, 5)\n",
    "    width = .8\n",
    "    hist_heights = (ridership_perc_avg, speed_perc_avg, farthest_dist_avg, spacing_perc_avg, std_dev)\n",
    "    \n",
    "    # Look for specific colors or default to green\n",
    "    ax[1].bar(x=hist_x, height=hist_heights, color=((66/255, 146/255, 141/255), (66/255, 146/255, 141/255), (66/255, 146/255, 141/255), \n",
    "                                                    (66/255, 146/255, 141/255), (66/255, 146/255, 141/255)), tick_label=x_labels, \n",
    "              width = width, alpha=.8)\n",
    "\n",
    "    # Place text above bars that too small:\n",
    "    ylim = max(1, speed_perc_avg+.1, ridership_perc_avg+.1, spacing_perc_avg+.1, std_dev+.1, farthest_dist_avg+.1) \n",
    "    if ridership_perc_avg-.04*ylim < .1*ylim:\n",
    "        ax[1].annotate(\"% daily riders:\\n\", xy=(1, ridership_perc_avg+.04*ylim), ha='center', va='center', fontsize=12)\n",
    "        ax[1].annotate('{0:^.3f} %'.format(route_characteristics[route][2]*100), xy=(1, ridership_perc_avg+.02*ylim), ha='center', va='center', fontsize=14)  \n",
    "    else:\n",
    "        ax[1].annotate(\"% daily riders:\\n\", xy=(1, ridership_perc_avg-.04*ylim), ha='center', va='center', fontsize=12)\n",
    "        ax[1].annotate('{0:^.3f} %'.format(route_characteristics[route][2]*100), xy=(1, ridership_perc_avg-.06*ylim), ha='center', va='center', fontsize=14)\n",
    "\n",
    "    if speed_perc_avg-.04*ylim < .1*ylim:\n",
    "        ax[1].annotate(\"Avg Speed:\\n\", xy=(2, speed_perc_avg+.04*ylim), ha='center', va='center', fontsize=12)\n",
    "        ax[1].annotate('{0:^.1f} MPH'.format(route_characteristics[route][0]), xy=(2, speed_perc_avg+.02*ylim), ha='center', va='center', fontsize=14)\n",
    "    else:\n",
    "        ax[1].annotate(\"Avg Speed:\\n\", xy=(2, speed_perc_avg-.04*ylim), ha='center', va='center', fontsize=12)\n",
    "        ax[1].annotate('{0:^.1f} MPH'.format(route_characteristics[route][0]), xy=(2, speed_perc_avg-.06*ylim), ha='center', va='center', fontsize=14)\n",
    "    \n",
    "    if farthest_dist_avg-.04*ylim < .1*ylim:\n",
    "        ax[1].annotate(\"Farthest Dist:\\n\", xy=(3, farthest_dist_avg+.04*ylim), ha='center', va='center', fontsize=12)\n",
    "        ax[1].annotate('{0:^.2f} Miles'.format(route_characteristics[route][4]), xy=(3, farthest_dist_avg+.02*ylim), ha='center', va='center', fontsize=14)\n",
    "    else:\n",
    "        ax[1].annotate(\"Farthest Dist: \\n\", xy=(3, farthest_dist_avg-.04*ylim), ha='center', va='center', fontsize=12)\n",
    "        ax[1].annotate('{0:^.2f} Miles'.format(route_characteristics[route][4]), xy=(3, farthest_dist_avg-.06*ylim), ha='center', va='center', fontsize=14)\n",
    "\n",
    "    if spacing_perc_avg-.04*ylim < .1*ylim:\n",
    "        ax[1].annotate(\"Avg Spacing:\\n\", xy=(4, spacing_perc_avg+.04*ylim), ha='center', va='center', fontsize=12)\n",
    "        ax[1].annotate('{0:^.2f} Miles'.format(route_characteristics[route][1]), xy=(4, spacing_perc_avg+.02*ylim), ha='center', va='center', fontsize=14)\n",
    "    else:\n",
    "        ax[1].annotate(\"Avg Spacing:\\n\", xy=(4, spacing_perc_avg-.04*ylim), ha='center', va='center', fontsize=12)\n",
    "        ax[1].annotate('{0:^.2f} Miles'.format(route_characteristics[route][1]), xy=(4, spacing_perc_avg-.06*ylim), ha='center', va='center', fontsize=14)\n",
    "        \n",
    "    if std_dev-.04*ylim < .1*ylim:\n",
    "        ax[1].annotate(\"Std_dev:\\n\", xy=(5, std_dev+.04*ylim), ha='center', va='center', fontsize=12)\n",
    "        ax[1].annotate('{0:^.3f} Miles'.format(np.sqrt(np.var(list(route_characteristics[route][3].keys())))), xy=(5, std_dev+.02*ylim), ha='center', va='center', fontsize=14)  \n",
    "    else:\n",
    "        ax[1].annotate(\"Std_dev:\\n\", xy=(5, std_dev-.04*ylim), ha='center', va='center', fontsize=12)\n",
    "        ax[1].annotate('{0:^.3f} Miles'.format(np.sqrt(np.var(list(route_characteristics[route][3].keys())))), xy=(5, std_dev-.06*ylim), ha='center', va='center', fontsize=14)\n",
    "\n",
    "    ax[1].tick_params(labelsize=14)\n",
    "    ax[1].set_ylabel(\"Fraction of Average from All Routes\", fontsize=16)\n",
    "    ax[1].set_ylim(0, ylim)\n",
    "    ax[1].spines['right'].set_visible(False)\n",
    "    ax[1].spines['top'].set_visible(False)\n",
    "    \n",
    "    # Make the distribution plots:\n",
    "    spacing = list(route_characteristics[route][3].keys())\n",
    "    #print(spacing)\n",
    "    counts = list(route_characteristics[route][3].values())\n",
    "    bins = [i*.1 for i in range(math.ceil(10*max(spacing)+1))]\n",
    "    #print(bins)\n",
    "    ax[2].hist(route_characteristics[route][3], bins=bins, rwidth=.9, color=(118/255, 203/255, 90/255))\n",
    "    ax[2].spines['right'].set_visible(False)\n",
    "    ax[2].spines['top'].set_visible(False)\n",
    "    ax[2].set_ylabel(\"Counts (arb)\", fontsize=16)\n",
    "    ax[2].set_xlabel(\"Stop spacing (Miles)\", fontsize=16)\n",
    "    ax[2].set_yticks([])\n",
    "    ax[2].tick_params(labelsize=14)\n",
    "    ax[2].set_title(\"Distribution of Stop Spacing\", fontsize=16)\n",
    "\n",
    "    plt.suptitle(\"Route \" + str(route) + \" Characteristics\", fontsize=24)\n",
    "    #plt.savefig(\"PaperFigures/\"+\"Route_\" + str(route), bbox_inches='tight')\n",
    "    plt.savefig(\"Figures/\"+\"Route_\" + str(route), bbox_inches='tight')\n",
    "    #plt.savefig(\"PaperFigures/\"+\"Route_\" + str(route), bbox_inches='tight', format=\"svg\")\n",
    "    \n",
    "    plt.show()\n",
    "    \n",
    "    "
   ]
  },
  {
   "cell_type": "code",
   "execution_count": null,
   "metadata": {},
   "outputs": [],
   "source": [
    "plotRouteCharacteristics_colors(27)"
   ]
  },
  {
   "cell_type": "code",
   "execution_count": null,
   "metadata": {
    "scrolled": false
   },
   "outputs": [],
   "source": [
    "for route in routes_wk_list:\n",
    "    plotRouteCharacteristics_colors(route)"
   ]
  }
 ],
 "metadata": {
  "kernelspec": {
   "display_name": "Python 3",
   "language": "python",
   "name": "python3"
  },
  "language_info": {
   "codemirror_mode": {
    "name": "ipython",
    "version": 3
   },
   "file_extension": ".py",
   "mimetype": "text/x-python",
   "name": "python",
   "nbconvert_exporter": "python",
   "pygments_lexer": "ipython3",
   "version": "3.8.2"
  }
 },
 "nbformat": 4,
 "nbformat_minor": 4
}
