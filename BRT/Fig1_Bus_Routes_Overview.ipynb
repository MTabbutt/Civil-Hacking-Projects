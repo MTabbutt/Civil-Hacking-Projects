{
 "cells": [
  {
   "cell_type": "code",
   "execution_count": null,
   "metadata": {},
   "outputs": [],
   "source": [
    "# Make Jupyter Notebook full screen \n",
    "from IPython.core.display import display, HTML\n",
    "display(HTML(\"<style>.container { width:90% !important; }</style>\"))"
   ]
  },
  {
   "cell_type": "code",
   "execution_count": null,
   "metadata": {},
   "outputs": [],
   "source": [
    "import geopandas\n",
    "import pandas as pd\n",
    "import matplotlib.pyplot as plt\n",
    "import random"
   ]
  },
  {
   "cell_type": "code",
   "execution_count": null,
   "metadata": {},
   "outputs": [],
   "source": [
    "#DATA_PATH = '/Users/megantabbutt/BRT_data/GeoData/'\n",
    "#DATA_PATH_Dems = '/Users/megantabbutt/BRT_data/DemographicData/'\n",
    "RoutesShapeFile = \"mmt_gtfs/Metro_Transit_Bus_Routes.shp\"\n",
    "CitiesShapeFile = \"Shapes/City/City_Limit.shp\"\n",
    "LakesShapeFile = \"Shapes/Lakes/Lakes_and_Rivers.shp\"\n",
    "StreetsShapeFile = \"Shapes/Street/Street_Centerlines_and_Pavement_Data.shp\"\n",
    "\n",
    "\n",
    "cityShapes_df = geopandas.read_file(CitiesShapeFile)\n",
    "lakeShapes_df = geopandas.read_file(LakesShapeFile)\n",
    "streetShapes_df = geopandas.read_file(StreetsShapeFile)"
   ]
  },
  {
   "cell_type": "code",
   "execution_count": null,
   "metadata": {},
   "outputs": [],
   "source": [
    "routesShapes_df = geopandas.read_file(RoutesShapeFile)\n",
    "routesShapes_df.info()\n",
    "routesShapes_df.head(3)"
   ]
  },
  {
   "cell_type": "code",
   "execution_count": null,
   "metadata": {},
   "outputs": [],
   "source": [
    "colors = [.01*random.randint(0, 70)for i in range(len(routesShapes_df['OBJECTID']))]\n",
    "routesShapes_df['colors'] = colors\n",
    "routesShapes_df.head(3)"
   ]
  },
  {
   "cell_type": "code",
   "execution_count": null,
   "metadata": {},
   "outputs": [],
   "source": [
    "ax = cityShapes_df.plot(color='#e7e3e0', figsize=(12, 12))\n",
    "lakeShapes_df.plot(color='lightblue', alpha=.9, ax=ax)\n",
    "streetShapes_df.plot(color='#fbf7f4', alpha=.7, ax=ax)\n",
    "\n",
    "routesShapes_df.plot(ax=ax, column='colors', cmap='viridis', linestyle=\"-\", alpha=.5, linewidth=3)\n",
    "\n",
    "plt.xticks([])\n",
    "plt.yticks([])\n",
    "\n",
    "ax.set_facecolor(\"#e7e3e0\")\n",
    "plt.title(\"Madison Metro System Map\", fontsize=18)\n",
    "plt.savefig('PaperFigures/SystemMap', bbox_inches='tight')\n",
    "plt.show()"
   ]
  },
  {
   "cell_type": "code",
   "execution_count": null,
   "metadata": {},
   "outputs": [],
   "source": []
  }
 ],
 "metadata": {
  "kernelspec": {
   "display_name": "Python 3",
   "language": "python",
   "name": "python3"
  },
  "language_info": {
   "codemirror_mode": {
    "name": "ipython",
    "version": 3
   },
   "file_extension": ".py",
   "mimetype": "text/x-python",
   "name": "python",
   "nbconvert_exporter": "python",
   "pygments_lexer": "ipython3",
   "version": "3.8.2"
  }
 },
 "nbformat": 4,
 "nbformat_minor": 4
}
