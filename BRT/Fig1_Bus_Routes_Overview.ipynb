{
 "cells": [
  {
   "cell_type": "code",
   "execution_count": null,
   "metadata": {},
   "outputs": [],
   "source": [
    "# Make Jupyter Notebook full screen \n",
    "from IPython.core.display import display, HTML\n",
    "display(HTML(\"<style>.container { width:90% !important; }</style>\"))"
   ]
  },
  {
   "cell_type": "code",
   "execution_count": null,
   "metadata": {},
   "outputs": [],
   "source": [
    "import geopandas\n",
    "import pandas as pd\n",
    "import matplotlib.pyplot as plt\n",
    "import random\n",
    "from mpl_toolkits.axes_grid1 import make_axes_locatable"
   ]
  },
  {
   "cell_type": "code",
   "execution_count": null,
   "metadata": {},
   "outputs": [],
   "source": [
    "#DATA_PATH = '/Users/megantabbutt/BRT_data/GeoData/'\n",
    "#DATA_PATH_Dems = '/Users/megantabbutt/BRT_data/DemographicData/'\n",
    "RoutesShapeFile = \"mmt_gtfs/Metro_Transit_Bus_Routes.shp\"\n",
    "CitiesShapeFile = \"Shapes/City/City_Limit.shp\"\n",
    "LakesShapeFile = \"Shapes/Lakes/Lakes_and_Rivers.shp\"\n",
    "StreetsShapeFile = \"Shapes/Street/Street_Centerlines_and_Pavement_Data.shp\"\n",
    "\n",
    "\n",
    "cityShapes_df = geopandas.read_file(CitiesShapeFile)\n",
    "lakeShapes_df = geopandas.read_file(LakesShapeFile)\n",
    "streetShapes_df = geopandas.read_file(StreetsShapeFile)"
   ]
  },
  {
   "cell_type": "code",
   "execution_count": null,
   "metadata": {},
   "outputs": [],
   "source": [
    "DATA_PATH = '/Users/megantabbutt/BRT_data/GeoData/'\n",
    "DATA_PATH_Dems = '/Users/megantabbutt/BRT_data/DemographicData/'\n",
    "\n",
    "df = geopandas.read_file(DATA_PATH+\"tl_2018_55_bg.shp\")\n",
    "df_dane = df[df['COUNTYFP'] == \"025\"]\n",
    "df_dane.head(3)"
   ]
  },
  {
   "cell_type": "code",
   "execution_count": null,
   "metadata": {},
   "outputs": [],
   "source": [
    "df_mad = pd.read_csv(DATA_PATH_Dems + \"Block_level_2018.txt\", sep='\\t')\n",
    "df_mad.info()\n",
    "df_mad.head(3)"
   ]
  },
  {
   "cell_type": "code",
   "execution_count": null,
   "metadata": {},
   "outputs": [],
   "source": [
    "geoIDs_Master = [int(i) for i in list(df_dane['GEOID'])]\n",
    "type(geoIDs_Master[0])"
   ]
  },
  {
   "cell_type": "code",
   "execution_count": null,
   "metadata": {},
   "outputs": [],
   "source": [
    "print(list(df_mad['Total']))"
   ]
  },
  {
   "cell_type": "code",
   "execution_count": null,
   "metadata": {},
   "outputs": [],
   "source": [
    "Population = dict()\n",
    "for ID in geoIDs_Master:\n",
    "    localDF = df_mad[df_mad['GEOID'] == ID]\n",
    "    totalPop = df_mad.loc[df_mad['GEOID'] == ID, 'Total'].item()\n",
    "    if localDF['Total'].item() != 0:\n",
    "        number =  localDF['Total'].item()       \n",
    "    else:\n",
    "        number = None\n",
    "    Population[ID] = number\n",
    "    \n",
    "#Population"
   ]
  },
  {
   "cell_type": "code",
   "execution_count": null,
   "metadata": {},
   "outputs": [],
   "source": [
    "df_dane['Population'] = list(Population.values())\n",
    "df_dane.head(3)"
   ]
  },
  {
   "cell_type": "code",
   "execution_count": null,
   "metadata": {},
   "outputs": [],
   "source": [
    "routesShapes_df = geopandas.read_file(RoutesShapeFile)\n",
    "routesShapes_df.info()\n",
    "routesShapes_df.head(3)"
   ]
  },
  {
   "cell_type": "code",
   "execution_count": null,
   "metadata": {},
   "outputs": [],
   "source": [
    "colors = [.01*random.randint(0, 70)for i in range(len(routesShapes_df['OBJECTID']))]\n",
    "routesShapes_df['colors'] = colors\n",
    "routesShapes_df.head(3)"
   ]
  },
  {
   "cell_type": "code",
   "execution_count": null,
   "metadata": {},
   "outputs": [],
   "source": [
    "ax = cityShapes_df.plot(color='#e7e3e0', figsize=(12, 12))\n",
    "lakeShapes_df.plot(color='lightblue', alpha=.9, ax=ax)\n",
    "streetShapes_df.plot(color='#fbf7f4', alpha=.7, ax=ax)\n",
    "\n",
    "\n",
    "routesShapes_df.plot(ax=ax, column='colors', cmap='viridis', linestyle=\"-\", alpha=.5, linewidth=3)\n",
    "\n",
    "plt.xticks([])\n",
    "plt.yticks([])\n",
    "\n",
    "ax.set_facecolor(\"#e7e3e0\")\n",
    "plt.title(\"Madison Metro System Map\", fontsize=18)\n",
    "plt.savefig('PaperFigures/SystemMap', bbox_inches='tight')\n",
    "plt.show()"
   ]
  },
  {
   "cell_type": "code",
   "execution_count": null,
   "metadata": {},
   "outputs": [],
   "source": [
    "fig, ax = plt.subplots(1, 1, figsize=(16, 16))\n",
    "divider = make_axes_locatable(ax)\n",
    "cax = divider.append_axes(\"right\", size=\"5%\", pad=-1.5)\n",
    "\n",
    "df_dane.plot(column='Population', ax=ax, legend=True, legend_kwds={'label': \"Surveyed Population\"}, cax=cax, cmap='viridis', alpha=.8)\n",
    "\n",
    "lakeShapes_df.plot(color='lightblue', alpha=.9, ax=ax)\n",
    "streetShapes_df.plot(color='#fbf7f4', alpha=.1, ax=ax)\n",
    "\n",
    "#routesShapes_df.plot(ax=ax, colors='white', linestyle=\"-\", alpha=.5, linewidth=3)\n",
    "\n",
    "ax.set_facecolor(\"#e7e3e0\")\n",
    "ax.set_xlim(-89.6, -89.2)\n",
    "ax.set_ylim(42.97, 43.2)\n",
    "ax.set_yticks([])\n",
    "ax.set_xticks([])\n",
    "\n",
    "fig.suptitle(\"Population Denstiy and Madison Metro Routes\", fontsize=18, x=.55, y=.76)\n",
    "#plt.savefig('PaperFigures/PopDenstiyRoutes', bbox_inches='tight')\n",
    "plt.show()"
   ]
  },
  {
   "cell_type": "code",
   "execution_count": null,
   "metadata": {},
   "outputs": [],
   "source": []
  }
 ],
 "metadata": {
  "kernelspec": {
   "display_name": "Python 3",
   "language": "python",
   "name": "python3"
  },
  "language_info": {
   "codemirror_mode": {
    "name": "ipython",
    "version": 3
   },
   "file_extension": ".py",
   "mimetype": "text/x-python",
   "name": "python",
   "nbconvert_exporter": "python",
   "pygments_lexer": "ipython3",
   "version": "3.8.2"
  }
 },
 "nbformat": 4,
 "nbformat_minor": 4
}
