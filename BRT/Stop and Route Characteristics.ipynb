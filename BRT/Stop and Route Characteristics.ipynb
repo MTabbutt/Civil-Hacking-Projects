{
 "cells": [
  {
   "cell_type": "code",
   "execution_count": null,
   "metadata": {},
   "outputs": [],
   "source": [
    "# Make Jupyter Notebook full screen \n",
    "from IPython.core.display import display, HTML\n",
    "display(HTML(\"<style>.container { width:80% !important; }</style>\"))"
   ]
  },
  {
   "cell_type": "markdown",
   "metadata": {},
   "source": [
    "Objective: Identify route and stop characteristics:\n",
    "\n",
    "- Speed of route\n",
    "- Ridership at stops\n",
    "- Route spacing"
   ]
  },
  {
   "cell_type": "code",
   "execution_count": null,
   "metadata": {},
   "outputs": [],
   "source": [
    "import pandas as pd\n",
    "import numpy as np\n",
    "from scipy import stats\n",
    "import matplotlib.pyplot as plt\n",
    "from matplotlib.lines import Line2D\n",
    "import datetime\n",
    "import geopandas\n",
    "import random"
   ]
  },
  {
   "cell_type": "code",
   "execution_count": null,
   "metadata": {},
   "outputs": [],
   "source": [
    "print(\"GTFS data sets: \")\n",
    "GTFS_DATA_PATH = \"mmt_gtfs/\"\n",
    "import os; os.listdir(GTFS_DATA_PATH) # Peak whats in the directory "
   ]
  },
  {
   "cell_type": "code",
   "execution_count": null,
   "metadata": {},
   "outputs": [],
   "source": [
    "def getPandasDFCSV(path, file, sep=','):  \n",
    "    \"\"\" Keyword Arg sep: deliminator used in txt file (default = ',')\"\"\"\n",
    "    pandasDF = pd.read_csv(path +  file, sep=sep)\n",
    "    return pandasDF"
   ]
  },
  {
   "cell_type": "code",
   "execution_count": null,
   "metadata": {},
   "outputs": [],
   "source": [
    "stops_df = getPandasDFCSV(GTFS_DATA_PATH, 'stops.txt')\n",
    "#stops_df.head()"
   ]
  },
  {
   "cell_type": "code",
   "execution_count": null,
   "metadata": {},
   "outputs": [],
   "source": [
    "ridership_df = getPandasDFCSV(GTFS_DATA_PATH, 'Metro_Transit_Ridership_by_Route_Weekday.csv')\n",
    "#ridership_df"
   ]
  },
  {
   "cell_type": "code",
   "execution_count": null,
   "metadata": {},
   "outputs": [],
   "source": [
    "stop_times_df = getPandasDFCSV(GTFS_DATA_PATH, 'stop_times.txt')\n",
    "#stop_times_df.info()\n",
    "#stop_times_df.head(3)"
   ]
  },
  {
   "cell_type": "code",
   "execution_count": null,
   "metadata": {},
   "outputs": [],
   "source": [
    "# Fix the times from strings and bad formatting to datetime objects:\n",
    "\n",
    "arrivalTimesArray = np.array(stop_times_df['arrival_time'])\n",
    "\n",
    "arrivalTimesArrayFixed = []\n",
    "for time in arrivalTimesArray:\n",
    "    timeList = time.split(\":\")\n",
    "    timeList = [int(time) for time in timeList]\n",
    "    if timeList[0] < 24:\n",
    "        dateTime = datetime.datetime(2000, 1, 1, timeList[0], timeList[1], timeList[2])\n",
    "    else:\n",
    "        dateTime = datetime.datetime(2000, 1, 2, timeList[0]-24, timeList[1], timeList[2])\n",
    "    arrivalTimesArrayFixed.append(dateTime)\n",
    "    \n",
    "stop_times_df['arrival_time'] = arrivalTimesArrayFixed\n",
    "\n",
    "departureTimesArray = np.array(stop_times_df['departure_time'])\n",
    "\n",
    "departureTimesArrayFixed = []\n",
    "for time in departureTimesArray:\n",
    "    timeList = time.split(\":\")\n",
    "    timeList = [int(time) for time in timeList]\n",
    "    if timeList[0] < 24:\n",
    "        dateTime = datetime.datetime(2000, 1, 1, timeList[0], timeList[1], timeList[2])\n",
    "    else:\n",
    "        dateTime = datetime.datetime(2000, 1, 2, timeList[0]-24, timeList[1], timeList[2])\n",
    "    departureTimesArrayFixed.append(dateTime)\n",
    "    \n",
    "stop_times_df['departure_time'] = departureTimesArrayFixed\n",
    "\n",
    "#stop_times_df.head()"
   ]
  },
  {
   "cell_type": "code",
   "execution_count": null,
   "metadata": {},
   "outputs": [],
   "source": [
    "#stop_times_df.head()"
   ]
  },
  {
   "cell_type": "code",
   "execution_count": null,
   "metadata": {},
   "outputs": [],
   "source": [
    "trips_df = getPandasDFCSV(GTFS_DATA_PATH, 'trips.txt')\n",
    "#trips_df.info()\n",
    "#trips_df.head(3)"
   ]
  },
  {
   "cell_type": "code",
   "execution_count": null,
   "metadata": {},
   "outputs": [],
   "source": [
    "stops_df = getPandasDFCSV(GTFS_DATA_PATH, 'stops.txt')\n",
    "#stops_df.info()\n",
    "#stops_df.head(3)"
   ]
  },
  {
   "cell_type": "code",
   "execution_count": null,
   "metadata": {},
   "outputs": [],
   "source": [
    "print(\"list of possible trips: \\n\")\n",
    "\n",
    "service_id_list = []\n",
    "for i in trips_df['service_id']:\n",
    "    if i not in service_id_list:\n",
    "        service_id_list.append(i)\n",
    "print(service_id_list)"
   ]
  },
  {
   "cell_type": "code",
   "execution_count": null,
   "metadata": {},
   "outputs": [],
   "source": [
    "print(\"list of possible routes: \\n\")\n",
    "\n",
    "route_short_name_list = []\n",
    "for i in trips_df['route_short_name']:\n",
    "    if i not in route_short_name_list:\n",
    "        route_short_name_list.append(i)\n",
    "\n",
    "route_short_name_list.sort()\n",
    "print(route_short_name_list)"
   ]
  },
  {
   "cell_type": "code",
   "execution_count": null,
   "metadata": {},
   "outputs": [],
   "source": [
    "trips_df_weekday_peak = trips_df[trips_df['service_id'] == '92_WKD']\n",
    "trips_df_weekday_peak_R = trips_df[trips_df['service_id'] == '92_WKD:R']\n",
    "trips_df_weekday_peak_s = trips_df[trips_df['service_id'] == '92_WKD:L#6']\n",
    "trips_df_weekday_peak_s3 = trips_df[trips_df['service_id'] == '92_WKD:L=6']\n",
    "trips_df_weekday_peak_s1 = trips_df[trips_df['service_id'] == '92_WKD:S']\n",
    "trips_df_weekday_peak_s2 = trips_df[trips_df['service_id'] == '92_WKD:S#6']\n",
    "trips_df_weekday_peak_s4 = trips_df[trips_df['service_id'] == '92_WKD:S=6']\n",
    "\n",
    "dfs_wk = [trips_df_weekday_peak, trips_df_weekday_peak_R, trips_df_weekday_peak_s, \n",
    "          trips_df_weekday_peak_s1, trips_df_weekday_peak_s2, trips_df_weekday_peak_s4]\n",
    "\n",
    "trips_df_weekday = pd.concat(dfs_wk)\n",
    "#trips_df_weekday.info()"
   ]
  },
  {
   "cell_type": "code",
   "execution_count": null,
   "metadata": {},
   "outputs": [],
   "source": [
    "print(\"Routes for weekday trips: \\n\")\n",
    "\n",
    "routes_wk_list = []\n",
    "for route in trips_df_weekday['route_short_name']:\n",
    "    if route not in routes_wk_list:\n",
    "        routes_wk_list.append(route)\n",
    "\n",
    "routes_wk_list.sort()\n",
    "print(routes_wk_list)"
   ]
  },
  {
   "cell_type": "code",
   "execution_count": null,
   "metadata": {},
   "outputs": [],
   "source": [
    "# make a dictionary of routes with trip ID's for weekday service:\n",
    "print(\"Dictionary of all the possible trips for each route during weekdays: \\n\\n Example output for 10 trips in route 2: \\n\")\n",
    "\n",
    "tripIDList_forRoutes_weekday92 = dict()\n",
    "for i in routes_wk_list:\n",
    "    trip_list = []\n",
    "    for j in trips_df_weekday[trips_df_weekday['route_short_name'] == i].iterrows():\n",
    "        trip_list.append(j[1]['trip_id'])\n",
    "    tripIDList_forRoutes_weekday92[i] = trip_list\n",
    "\n",
    "print(tripIDList_forRoutes_weekday92[2][:10])"
   ]
  },
  {
   "cell_type": "markdown",
   "metadata": {},
   "source": [
    "# Find average speed for each route: \n",
    "\n",
    "total distance travelled by route / time the route took"
   ]
  },
  {
   "cell_type": "code",
   "execution_count": null,
   "metadata": {},
   "outputs": [],
   "source": [
    "ridership_df[ridership_df['Route'] == 7]\n",
    "\n",
    "totalRiders = np.sum(list(ridership_df['DailyBoardings']))"
   ]
  },
  {
   "cell_type": "code",
   "execution_count": null,
   "metadata": {},
   "outputs": [],
   "source": [
    "# Each route has a list [average speed, average stop spacing, percent of total ridership]\n",
    "\n",
    "route_stops = dict()\n",
    "\n",
    "totalRidersAll = np.sum(list(ridership_df['DailyBoardings']))\n",
    "\n",
    "route_characteristics = dict()\n",
    "for route in tripIDList_forRoutes_weekday92:\n",
    "    route_characteristics[route] = []\n",
    "    route_stops[route] = []\n",
    "    \n",
    "    stops_list = []\n",
    "    route_trips_speeds = []\n",
    "    route_trips_distances = []\n",
    "    for trip in tripIDList_forRoutes_weekday92[route]:\n",
    "        \n",
    "        # Find speeeds: \n",
    "        stop_times_df_local = stop_times_df[stop_times_df['trip_id'] == trip]\n",
    "        distance = list(stop_times_df_local['shape_dist_traveled'])[-1]\n",
    "        time = list(stop_times_df_local['departure_time'])[-1] - list(stop_times_df_local['departure_time'])[0]\n",
    "        speed = distance / (time.seconds / 3600)\n",
    "        route_trips_speeds.append(speed)\n",
    "        \n",
    "        # Find average route spacing:\n",
    "        spacing_list = []\n",
    "        spacing = list(stop_times_df_local['shape_dist_traveled'])\n",
    "        spacing.insert(0, 0.0)\n",
    "        for i in range(len(spacing)-1):\n",
    "            stop_spacing = spacing[i+1] - spacing[i]\n",
    "            spacing_list.append(stop_spacing)\n",
    "        route_trips_distances.append(np.average(spacing_list))\n",
    "           \n",
    "        # Add stops to dictionary:\n",
    "        for stop in stop_times_df_local['stop_id']:\n",
    "            if stop not in stops_list:\n",
    "                stops_list.append(stop)\n",
    "        \n",
    "    # Get daily boardings:\n",
    "    route_df = ridership_df[ridership_df['Route'] == route]\n",
    "    totalRiders = np.sum(list(route_df['DailyBoardings']))\n",
    "    fractionOfTotalRiders = totalRiders/totalRidersAll\n",
    "    \n",
    "    route_characteristics[route].append(np.average(route_trips_speeds))\n",
    "    route_characteristics[route].append(np.average(route_trips_distances))\n",
    "    route_characteristics[route].append(fractionOfTotalRiders)\n",
    "    route_stops[route] = stops_list\n",
    "    \n",
    "\n",
    "route_characteristics[2]"
   ]
  },
  {
   "cell_type": "code",
   "execution_count": null,
   "metadata": {},
   "outputs": [],
   "source": [
    "ax = plt.subplots(figsize=(20, 12))[1]\n",
    "\n",
    "for i, route in enumerate(route_characteristics):\n",
    "    s = route_characteristics[route]\n",
    "    \n",
    "    if route == 80:\n",
    "        continue\n",
    "    # ridership vs speed\n",
    "    markerSp = \"$\" + str(route) + \"$\"\n",
    "    x = s[0]\n",
    "    y = s[2]\n",
    "    ax.plot(x, y, color='#34013f', linewidth=3, markersize=10, marker = markerSp, alpha=.9)\n",
    "    \n",
    "plt.xlabel(\"Average Speed (MPH)\")\n",
    "plt.ylabel(\"fraction of total daily riders\")\n",
    "plt.title(\"Correlation between Ridership and Speed (Route 80 excluded)\")\n",
    "plt.savefig(\"Correlation__Ridership_Speed_no80\")\n",
    "plt.show()"
   ]
  },
  {
   "cell_type": "code",
   "execution_count": null,
   "metadata": {},
   "outputs": [],
   "source": [
    "ax = plt.subplots(figsize=(20, 12))[1]\n",
    "\n",
    "for i, route in enumerate(route_characteristics):\n",
    "    s = route_characteristics[route]\n",
    "    \n",
    "    if route == 80:\n",
    "        continue\n",
    "    # ridership vs speed\n",
    "    markerSp = \"$\" + str(route) + \"$\"\n",
    "    x = s[1]\n",
    "    y = s[2]\n",
    "    ax.plot(x, y, color='#34013f', linewidth=3, markersize=10, marker = markerSp, alpha=.9)\n",
    "    \n",
    "plt.xlabel(\"Average Stop Spacing (Miles)\")\n",
    "plt.ylabel(\"fraction of total daily riders\")\n",
    "plt.title(\"Correlation between Ridership and Stop-Spacing (Route 80 excluded)\")\n",
    "plt.savefig(\"Correlation_Ridership_Stop-Spacing_no80\")\n",
    "plt.show()"
   ]
  },
  {
   "cell_type": "code",
   "execution_count": null,
   "metadata": {},
   "outputs": [],
   "source": [
    "ax = plt.subplots(figsize=(20, 12))[1]\n",
    "\n",
    "for i, route in enumerate(route_characteristics):\n",
    "    s = route_characteristics[route]\n",
    "    \n",
    "    if route in (80, 7, 8):\n",
    "        continue\n",
    "    # ridership vs speed\n",
    "    markerSp = \"$\" + str(route) + \"$\"\n",
    "    x = s[1]\n",
    "    y = s[2]\n",
    "    ax.plot(x, y, color='#34013f', linewidth=3, markersize=15, marker = markerSp, alpha=.9)\n",
    "    ax.set_xlabel(\"Average Stop Spacing (Miles)\")\n",
    "    ax.set_ylabel(\"\")\n",
    "    \n",
    "plt.xlabel(\"Average Stop Spacing (Miles)\", fontsize=14)\n",
    "plt.ylabel(\"fraction of total daily riders\", fontsize=14)\n",
    "plt.title(\"Lowest ridership and closest stop spacing\", fontsize=14)\n",
    "plt.xlim(.16, .21)\n",
    "plt.ylim(-.001, .015)\n",
    "plt.savefig(\"Lowest_ridership_closest_stop_spacing\", fontsize=18)\n",
    "plt.show()"
   ]
  },
  {
   "cell_type": "markdown",
   "metadata": {},
   "source": [
    "## Investigate lowest stop spacing and lowest ridership -- seems like the best for rebalancing\n",
    "\n",
    "* Exclude UW routes: 80, 81, 82 - different purpose\n",
    "\n",
    "focus on: \n",
    "\n",
    "- 36\n",
    "- 32\n",
    "- 44\n",
    "- 27\n",
    "- 51"
   ]
  },
  {
   "cell_type": "code",
   "execution_count": null,
   "metadata": {},
   "outputs": [],
   "source": [
    "print(routes_wk_list)"
   ]
  },
  {
   "cell_type": "code",
   "execution_count": null,
   "metadata": {},
   "outputs": [],
   "source": [
    "subRoutes = (27, 32, 44, 51)\n",
    "\n",
    "Routes_latLon = dict()\n",
    "\n",
    "for route in routes_wk_list:\n",
    "    lat = []\n",
    "    lon = []\n",
    "    stops = route_stops[route]\n",
    "    for stop in stops:\n",
    "        stops_local = stops_df[stops_df['stop_id'] == stop]\n",
    "        lat.append(float(stops_local['stop_lat']))\n",
    "        lon.append(float(stops_local['stop_lon']))\n",
    "    Routes_latLon[route] = [lat, lon]\n",
    "    \n",
    "#subRoutes_latLon[27][0][:2]"
   ]
  },
  {
   "cell_type": "code",
   "execution_count": null,
   "metadata": {},
   "outputs": [],
   "source": [
    "riderships = []\n",
    "for route in route_characteristics:\n",
    "    if route == 80: \n",
    "        continue\n",
    "    riderships.append(route_characteristics[route][2])\n",
    "\n",
    "ridership_avg_no_80 = np.average(riderships)\n",
    "ridership_avg_no_80"
   ]
  },
  {
   "cell_type": "code",
   "execution_count": null,
   "metadata": {},
   "outputs": [],
   "source": [
    "Speeds = []\n",
    "for route in route_characteristics:\n",
    "    if route == 80: \n",
    "        continue\n",
    "    Speeds.append(route_characteristics[route][0])\n",
    "\n",
    "Speeds_avg_no_80 = np.average(Speeds)\n",
    "Speeds_avg_no_80"
   ]
  },
  {
   "cell_type": "code",
   "execution_count": null,
   "metadata": {},
   "outputs": [],
   "source": [
    "spacing = []\n",
    "for route in route_characteristics:\n",
    "    if route == 80: \n",
    "        continue\n",
    "    spacing.append(route_characteristics[route][1])\n",
    "\n",
    "Spacing_avg_no_80 = np.average(spacing)\n",
    "Spacing_avg_no_80"
   ]
  },
  {
   "cell_type": "code",
   "execution_count": null,
   "metadata": {},
   "outputs": [],
   "source": [
    "city = geopandas.read_file(\"shapes/City\")\n",
    "lakes = geopandas.read_file(\"shapes/Lakes\")\n",
    "Street = geopandas.read_file(\"shapes/Street\")"
   ]
  },
  {
   "cell_type": "code",
   "execution_count": null,
   "metadata": {},
   "outputs": [],
   "source": [
    "def plotRouteCharacteristics(route, save=True):\n",
    "    ax = plt.subplots(1, 2, figsize=(20, 11), frameon=False)[1]\n",
    "\n",
    "    ### Plot 1: Add the geopandas backgroud:\n",
    "    city.plot(color=\"lightgray\", alpha=.2, ax=ax[0], zorder=2)\n",
    "    lakes.plot(color=\"lightblue\", ax=ax[0], zorder=1, alpha=.8)\n",
    "    Street.plot(color=\"darkgray\", alpha = .5, ax=ax[0], zorder=3)\n",
    "\n",
    "    ### Plot 2: Add the routes on top:\n",
    "    x = Routes_latLon[route][1]\n",
    "    y = Routes_latLon[route][0]\n",
    "    \n",
    "    # Look for specific colors or default to green\n",
    "    try:\n",
    "        ax[0].scatter(x, y, label=\"Route \"+str(route)+\" stops\", color=colors[route][0], zorder=4)\n",
    "    except:\n",
    "        ax[0].scatter(x, y, label=\"Route \"+str(route)+\" stops\", color=\"#2b5d34\", zorder=4)\n",
    "        \n",
    "    ax[0].set_xlim(min(Routes_latLon[route][1])-.01, max(Routes_latLon[route][1])+.01)\n",
    "    ax[0].set_ylim(min(Routes_latLon[route][0])-.005, max(Routes_latLon[route][0])+.005)\n",
    "    ax[0].set_xticks([])\n",
    "    ax[0].set_yticks([])\n",
    "    ax[0].legend()\n",
    "    ax[0].set_title(\"Route Stops for Weekday Trips:\", fontsize=16)\n",
    "\n",
    "    ### Plot 3: Bar plot to the right summarizing stats\n",
    "    ridership_perc_avg = route_characteristics[route][2]/ridership_avg_no_80\n",
    "    speed_perc_avg = route_characteristics[route][0]/Speeds_avg_no_80\n",
    "    spacing_perc_avg = route_characteristics[route][1]/Spacing_avg_no_80\n",
    "\n",
    "    x_labels = [\"Ridership\", \"Speed\", \"Stop Spacing\"]\n",
    "    hist_x = (1, 2, 3)\n",
    "    width = .8\n",
    "    hist_heights = (ridership_perc_avg, speed_perc_avg, spacing_perc_avg)\n",
    "    \n",
    "    # Look for specific colors or default to green\n",
    "    try:\n",
    "        ax[1].bar(x=hist_x, height=hist_heights, color=colors[route][1], tick_label=x_labels, width = width, alpha=.8)\n",
    "    except:\n",
    "        ax[1].bar(x=hist_x, height=hist_heights, color=\"#74a662\", tick_label=x_labels, width = width, alpha=.8)\n",
    "\n",
    "    # Place text above bars that too small:\n",
    "    ylim = max(1, speed_perc_avg+.1, ridership_perc_avg+.1, spacing_perc_avg+.1) \n",
    "    if ridership_perc_avg-.04*ylim < .1*ylim:\n",
    "        ax[1].annotate(\"% of daily riders: \\n\", xy=(1, ridership_perc_avg+.04*ylim), ha='center', va='center', fontsize=12)\n",
    "        ax[1].annotate('{0:^.3f} %'.format(route_characteristics[route][2]*100), xy=(1, ridership_perc_avg+.02*ylim), ha='center', va='center', fontsize=14)  \n",
    "    else:\n",
    "        ax[1].annotate(\"% of daily riders: \\n\", xy=(1, ridership_perc_avg-.04*ylim), ha='center', va='center', fontsize=12)\n",
    "        ax[1].annotate('{0:^.3f} %'.format(route_characteristics[route][2]*100), xy=(1, ridership_perc_avg-.06*ylim), ha='center', va='center', fontsize=14)\n",
    "\n",
    "    if speed_perc_avg-.04*ylim < .1*ylim:\n",
    "        ax[1].annotate(\"Average Speed: \\n\", xy=(2, speed_perc_avg+.04*ylim), ha='center', va='center', fontsize=12)\n",
    "        ax[1].annotate('{0:^.1f} MPH'.format(route_characteristics[route][0]), xy=(2, speed_perc_avg+.02*ylim), ha='center', va='center', fontsize=14)\n",
    "    else:\n",
    "        ax[1].annotate(\"Average Speed: \\n\", xy=(2, speed_perc_avg-.04*ylim), ha='center', va='center', fontsize=12)\n",
    "        ax[1].annotate('{0:^.1f} MPH'.format(route_characteristics[route][0]), xy=(2, speed_perc_avg-.06*ylim), ha='center', va='center', fontsize=14)\n",
    "\n",
    "    if spacing_perc_avg-.04*ylim < .1*ylim:\n",
    "        ax[1].annotate(\"Average Spacing: \\n\", xy=(3, spacing_perc_avg+.04*ylim), ha='center', va='center', fontsize=12)\n",
    "        ax[1].annotate('{0:^.2f} Miles'.format(route_characteristics[route][1]), xy=(3, spacing_perc_avg+.02*ylim), ha='center', va='center', fontsize=14)\n",
    "    else:\n",
    "        ax[1].annotate(\"Average Spacing: \\n\", xy=(3, spacing_perc_avg-.04*ylim), ha='center', va='center', fontsize=12)\n",
    "        ax[1].annotate('{0:^.2f} Miles'.format(route_characteristics[route][1]), xy=(3, spacing_perc_avg-.06*ylim), ha='center', va='center', fontsize=14)\n",
    "\n",
    "    ax[1].tick_params(labelsize=12)\n",
    "    ax[1].set_ylabel(\"Fraction of Average from All Routes\", fontsize=14)\n",
    "    ax[1].set_ylim(0, ylim)\n",
    "    ax[1].spines['right'].set_visible(False)\n",
    "    ax[1].spines['top'].set_visible(False)\n",
    "\n",
    "    if save == True:\n",
    "        plt.savefig(\"Route_characterstics_\" + str(route))\n",
    "    #plt.show()\n",
    "    \n",
    "    return ax"
   ]
  },
  {
   "cell_type": "code",
   "execution_count": null,
   "metadata": {},
   "outputs": [],
   "source": [
    "colors = {27: [\"#2b5d34\", \"#74a662\"], 32:[\"#5f1b6b\", \"#895b7b\"], 44:[\"#475f94\", \"#77a1b5\"], 51:[\"#730039\", \"#b9484e\"]}"
   ]
  },
  {
   "cell_type": "code",
   "execution_count": null,
   "metadata": {},
   "outputs": [],
   "source": [
    "plotRouteCharacteristics(27)"
   ]
  },
  {
   "cell_type": "code",
   "execution_count": null,
   "metadata": {},
   "outputs": [],
   "source": [
    "plotRouteCharacteristics(32)"
   ]
  },
  {
   "cell_type": "code",
   "execution_count": null,
   "metadata": {},
   "outputs": [],
   "source": [
    "plotRouteCharacteristics(44)"
   ]
  },
  {
   "cell_type": "code",
   "execution_count": null,
   "metadata": {},
   "outputs": [],
   "source": [
    "plotRouteCharacteristics(51)"
   ]
  },
  {
   "cell_type": "code",
   "execution_count": null,
   "metadata": {},
   "outputs": [],
   "source": [
    "plotRouteCharacteristics(2, save=False)"
   ]
  },
  {
   "cell_type": "code",
   "execution_count": null,
   "metadata": {},
   "outputs": [],
   "source": [
    "colors_5 = {1: [\"#2b5d34\", \"#74a662\"], 2:[\"#5f1b6b\", \"#895b7b\"], 3:[\"#475f94\", \"#77a1b5\"], 4:[\"#730039\", \"#b9484e\"], 5:[\"#c9643b\", \"#ff9408\"]}"
   ]
  },
  {
   "cell_type": "code",
   "execution_count": null,
   "metadata": {},
   "outputs": [],
   "source": [
    "def plotRouteCharacteristics_colors(route, count):\n",
    "    ax = plt.subplots(1, 2, figsize=(20, 11), frameon=False)[1]\n",
    "\n",
    "    ### Plot 1: Add the geopandas backgroud:\n",
    "    city.plot(color=\"lightgray\", alpha=.2, ax=ax[0], zorder=2)\n",
    "    lakes.plot(color=\"lightblue\", ax=ax[0], zorder=1, alpha=.8)\n",
    "    Street.plot(color=\"darkgray\", alpha = .5, ax=ax[0], zorder=3)\n",
    "\n",
    "    ### Plot 2: Add the routes on top:\n",
    "    x = Routes_latLon[route][1]\n",
    "    y = Routes_latLon[route][0]\n",
    "    \n",
    "    # Look for specific colors or default to green\n",
    "    ax[0].scatter(x, y, label=\"Route \"+str(route)+\" stops\", color=colors_5[count][0], zorder=4)\n",
    "        \n",
    "    ax[0].set_xlim(min(Routes_latLon[route][1])-.01, max(Routes_latLon[route][1])+.01)\n",
    "    ax[0].set_ylim(min(Routes_latLon[route][0])-.005, max(Routes_latLon[route][0])+.005)\n",
    "    ax[0].set_xticks([])\n",
    "    ax[0].set_yticks([])\n",
    "    ax[0].legend()\n",
    "    ax[0].set_title(\"Route Stops for Weekday Trips:\", fontsize=16)\n",
    "\n",
    "    ### Plot 3: Bar plot to the right summarizing stats\n",
    "    ridership_perc_avg = route_characteristics[route][2]/ridership_avg_no_80\n",
    "    speed_perc_avg = route_characteristics[route][0]/Speeds_avg_no_80\n",
    "    spacing_perc_avg = route_characteristics[route][1]/Spacing_avg_no_80\n",
    "\n",
    "    x_labels = [\"Ridership\", \"Speed\", \"Stop Spacing\"]\n",
    "    hist_x = (1, 2, 3)\n",
    "    width = .8\n",
    "    hist_heights = (ridership_perc_avg, speed_perc_avg, spacing_perc_avg)\n",
    "    \n",
    "    # Look for specific colors or default to green\n",
    "    ax[1].bar(x=hist_x, height=hist_heights, color=colors_5[count][1], tick_label=x_labels, width = width, alpha=.8)\n",
    "\n",
    "    # Place text above bars that too small:\n",
    "    ylim = max(1, speed_perc_avg+.1, ridership_perc_avg+.1, spacing_perc_avg+.1) \n",
    "    if ridership_perc_avg-.04*ylim < .1*ylim:\n",
    "        ax[1].annotate(\"% of daily riders: \\n\", xy=(1, ridership_perc_avg+.04*ylim), ha='center', va='center', fontsize=12)\n",
    "        ax[1].annotate('{0:^.3f} %'.format(route_characteristics[route][2]*100), xy=(1, ridership_perc_avg+.02*ylim), ha='center', va='center', fontsize=14)  \n",
    "    else:\n",
    "        ax[1].annotate(\"% of daily riders: \\n\", xy=(1, ridership_perc_avg-.04*ylim), ha='center', va='center', fontsize=12)\n",
    "        ax[1].annotate('{0:^.3f} %'.format(route_characteristics[route][2]*100), xy=(1, ridership_perc_avg-.06*ylim), ha='center', va='center', fontsize=14)\n",
    "\n",
    "    if speed_perc_avg-.04*ylim < .1*ylim:\n",
    "        ax[1].annotate(\"Average Speed: \\n\", xy=(2, speed_perc_avg+.04*ylim), ha='center', va='center', fontsize=12)\n",
    "        ax[1].annotate('{0:^.1f} MPH'.format(route_characteristics[route][0]), xy=(2, speed_perc_avg+.02*ylim), ha='center', va='center', fontsize=14)\n",
    "    else:\n",
    "        ax[1].annotate(\"Average Speed: \\n\", xy=(2, speed_perc_avg-.04*ylim), ha='center', va='center', fontsize=12)\n",
    "        ax[1].annotate('{0:^.1f} MPH'.format(route_characteristics[route][0]), xy=(2, speed_perc_avg-.06*ylim), ha='center', va='center', fontsize=14)\n",
    "\n",
    "    if spacing_perc_avg-.04*ylim < .1*ylim:\n",
    "        ax[1].annotate(\"Average Spacing: \\n\", xy=(3, spacing_perc_avg+.04*ylim), ha='center', va='center', fontsize=12)\n",
    "        ax[1].annotate('{0:^.2f} Miles'.format(route_characteristics[route][1]), xy=(3, spacing_perc_avg+.02*ylim), ha='center', va='center', fontsize=14)\n",
    "    else:\n",
    "        ax[1].annotate(\"Average Spacing: \\n\", xy=(3, spacing_perc_avg-.04*ylim), ha='center', va='center', fontsize=12)\n",
    "        ax[1].annotate('{0:^.2f} Miles'.format(route_characteristics[route][1]), xy=(3, spacing_perc_avg-.06*ylim), ha='center', va='center', fontsize=14)\n",
    "\n",
    "    ax[1].tick_params(labelsize=12)\n",
    "    ax[1].set_ylabel(\"Fraction of Average from All Routes\", fontsize=14)\n",
    "    ax[1].set_ylim(0, ylim)\n",
    "    ax[1].spines['right'].set_visible(False)\n",
    "    ax[1].spines['top'].set_visible(False)\n",
    "\n",
    "\n",
    "    plt.savefig(\"Route_\" + str(route), bbox_inches='tight')\n",
    "    plt.show()"
   ]
  },
  {
   "cell_type": "code",
   "execution_count": null,
   "metadata": {},
   "outputs": [],
   "source": []
  },
  {
   "cell_type": "code",
   "execution_count": null,
   "metadata": {
    "scrolled": false
   },
   "outputs": [],
   "source": [
    "\"\"\"for i, route in enumerate(routes_wk_list):\n",
    "    countNew = random.randint(1, 5)\n",
    "    if i == 0:\n",
    "        countOld = 0\n",
    "    while(countNew == countOld):\n",
    "        countNew = random.randint(1, 5)\n",
    "\n",
    "    plotRouteCharacteristics_colors(route, countNew)\n",
    "    \n",
    "    countOld = countNew\"\"\""
   ]
  },
  {
   "cell_type": "code",
   "execution_count": null,
   "metadata": {},
   "outputs": [],
   "source": []
  }
 ],
 "metadata": {
  "kernelspec": {
   "display_name": "Python 3",
   "language": "python",
   "name": "python3"
  },
  "language_info": {
   "codemirror_mode": {
    "name": "ipython",
    "version": 3
   },
   "file_extension": ".py",
   "mimetype": "text/x-python",
   "name": "python",
   "nbconvert_exporter": "python",
   "pygments_lexer": "ipython3",
   "version": "3.8.2"
  }
 },
 "nbformat": 4,
 "nbformat_minor": 4
}
