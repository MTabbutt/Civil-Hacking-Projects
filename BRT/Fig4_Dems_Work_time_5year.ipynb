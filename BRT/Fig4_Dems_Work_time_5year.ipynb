{
 "cells": [
  {
   "cell_type": "markdown",
   "metadata": {},
   "source": [
    "https://data.census.gov/mdat/#/search?ds=ACSPUMS1Y2018\n",
    "\n",
    "https://www.prb.org/workingaroundtheclock/\n",
    "\n",
    "https://www.census.gov/quickfacts/fact/table/madisoncitywisconsin/LND110210\n",
    "\n",
    "https://www2.census.gov/programs-surveys/acs/data/pums/2018/1-Year/PUMS_file_naming_convention.pdf\n",
    "\n"
   ]
  },
  {
   "cell_type": "code",
   "execution_count": null,
   "metadata": {},
   "outputs": [],
   "source": [
    "import pandas as pd\n",
    "import numpy as np\n",
    "import matplotlib.pyplot as plt"
   ]
  },
  {
   "cell_type": "code",
   "execution_count": null,
   "metadata": {},
   "outputs": [],
   "source": [
    "DemoGraphicDataPATH = \"/Users/megantabbutt/BRT_data/DemographicData/csv_pwi/psam_p55_5.csv\"\n",
    "TimeTableConversionPATH = \"/Users/megantabbutt/BRT_data/DemographicData/TimeConversiontable.csv\""
   ]
  },
  {
   "cell_type": "code",
   "execution_count": null,
   "metadata": {},
   "outputs": [],
   "source": [
    "timeConversionTable = pd.read_csv(TimeTableConversionPATH, header=None, index_col=1)\n",
    "DemoGraphicData = pd.read_csv(DemoGraphicDataPATH)"
   ]
  },
  {
   "cell_type": "code",
   "execution_count": null,
   "metadata": {},
   "outputs": [],
   "source": [
    "DemoGraphicData"
   ]
  },
  {
   "cell_type": "code",
   "execution_count": null,
   "metadata": {},
   "outputs": [],
   "source": [
    "timeConvertDict = timeConversionTable.to_dict()[0]"
   ]
  },
  {
   "cell_type": "code",
   "execution_count": null,
   "metadata": {},
   "outputs": [],
   "source": [
    "whiteBoolean = list(DemoGraphicData['RACWHT'])\n",
    "print(\"Ratio white: \", np.average(whiteBoolean))\n",
    "\n",
    "blackBoolean = list(DemoGraphicData['RACBLK'])\n",
    "print(\"Ratio black: \", np.average(blackBoolean))\n",
    "\n",
    "hispanicBoolean = [1 if i > 1 else 0 for i in list(DemoGraphicData['HISP'])]\n",
    "print(\"Ratio hispanic: \", np.average(hispanicBoolean))\n",
    "\n",
    "asianBoolean = (DemoGraphicData['RACASN'])\n",
    "print(\"Ratio asian: \", np.average(asianBoolean))"
   ]
  },
  {
   "cell_type": "code",
   "execution_count": null,
   "metadata": {},
   "outputs": [],
   "source": [
    "whiteBoolean_TF = []\n",
    "for i in whiteBoolean:\n",
    "    if i==1:\n",
    "        whiteBoolean_TF.append(True)\n",
    "    else:\n",
    "        whiteBoolean_TF.append(False)\n",
    "print(np.average(whiteBoolean_TF))\n",
    "whiteData = DemoGraphicData[whiteBoolean_TF]"
   ]
  },
  {
   "cell_type": "code",
   "execution_count": null,
   "metadata": {},
   "outputs": [],
   "source": [
    "blackBoolean_TF = []\n",
    "for i in blackBoolean:\n",
    "    if i==1:\n",
    "        blackBoolean_TF.append(True)\n",
    "    else:\n",
    "        blackBoolean_TF.append(False)\n",
    "print(np.average(blackBoolean_TF))\n",
    "blackData = DemoGraphicData[blackBoolean_TF]"
   ]
  },
  {
   "cell_type": "code",
   "execution_count": null,
   "metadata": {},
   "outputs": [],
   "source": [
    "hispanicBoolean_TF = []\n",
    "for i in hispanicBoolean:\n",
    "    if i==1:\n",
    "        hispanicBoolean_TF.append(True)\n",
    "    else:\n",
    "        hispanicBoolean_TF.append(False)\n",
    "print(np.average(hispanicBoolean_TF))\n",
    "hispanicData = DemoGraphicData[hispanicBoolean_TF]"
   ]
  },
  {
   "cell_type": "code",
   "execution_count": null,
   "metadata": {},
   "outputs": [],
   "source": [
    "asianBoolean_TF = []\n",
    "for i in asianBoolean:\n",
    "    if i==1:\n",
    "        asianBoolean_TF.append(True)\n",
    "    else:\n",
    "        asianBoolean_TF.append(False)\n",
    "print(np.average(asianBoolean_TF))\n",
    "asianData = DemoGraphicData[asianBoolean_TF]"
   ]
  },
  {
   "cell_type": "code",
   "execution_count": null,
   "metadata": {},
   "outputs": [],
   "source": [
    "hours = [i for i in range(24)]\n",
    "\n",
    "def getDictHours(data):\n",
    "    DataHours = dict()\n",
    "    for i in hours:\n",
    "        DataHours[i] = 0\n",
    "\n",
    "    for i in data:\n",
    "        if i >=1.0 and i <= 150.0:\n",
    "            hourTime = timeConvertDict[int(i)]\n",
    "            DataHours[hourTime] += 1\n",
    "    return DataHours\n",
    "            \n",
    "whiteDataHours = getDictHours(whiteData['JWDP'])\n",
    "blackDataHours = getDictHours(blackData['JWDP'])\n",
    "hispanicDataHours = getDictHours(hispanicData['JWDP'])\n",
    "asianDataHours = getDictHours(asianData['JWDP'])"
   ]
  },
  {
   "cell_type": "code",
   "execution_count": null,
   "metadata": {},
   "outputs": [],
   "source": [
    "# Get the wieghts:\n",
    "\n",
    "DemographicsWeightsHours = {'White':[], 'Black':[], 'Hispanic':[], 'Asian':[]}\n",
    "ErrorsUpper = {'White':[], 'Black':[], 'Hispanic':[], 'Asian':[]}\n",
    "ErrorsLower = {'White':[], 'Black':[], 'Hispanic':[], 'Asian':[]}\n",
    "\n",
    "totalPeople = len(DemoGraphicData)\n",
    "expectedWhitesRatio = np.average(whiteBoolean_TF)\n",
    "expectedBlacksRatio = np.average(blackBoolean_TF)\n",
    "expectedHispanicRatio = np.average(hispanicBoolean_TF)\n",
    "expectedAsianRatio = np.average(asianBoolean_TF)\n",
    "\n",
    "for hour in hours:\n",
    "    wNum = whiteDataHours[hour]\n",
    "    bNum = blackDataHours[hour]\n",
    "    hNum = hispanicDataHours[hour]\n",
    "    aNum = asianDataHours[hour]\n",
    "    totalHourWorkers = wNum + bNum + hNum + aNum\n",
    "    \n",
    "    wWeight = wNum / (totalHourWorkers * expectedWhitesRatio)\n",
    "    bWeight = bNum / (totalHourWorkers * expectedBlacksRatio)\n",
    "    hWeight = hNum / (totalHourWorkers * expectedHispanicRatio)\n",
    "    aWeight = aNum / (totalHourWorkers * expectedAsianRatio)\n",
    "    \n",
    "    DemographicsWeightsHours['White'].append(wWeight)\n",
    "    DemographicsWeightsHours['Black'].append(bWeight)\n",
    "    DemographicsWeightsHours['Hispanic'].append(hWeight)\n",
    "    DemographicsWeightsHours['Asian'].append(aWeight)\n",
    "    \n",
    "    ErrorsUpper['White'].append(np.sqrt(wNum)/ ((totalHourWorkers + np.sqrt(wNum)) * expectedWhitesRatio))\n",
    "    ErrorsUpper['Black'].append(np.sqrt(bNum)/ ((totalHourWorkers + np.sqrt(bNum)) * expectedBlacksRatio))\n",
    "    ErrorsUpper['Hispanic'].append(np.sqrt(hNum)/ ((totalHourWorkers + np.sqrt(hNum)) * expectedHispanicRatio))\n",
    "    ErrorsUpper['Asian'].append(np.sqrt(aNum)/ ((totalHourWorkers + np.sqrt(aNum)) * expectedAsianRatio))\n",
    "    \n",
    "    ErrorsLower['White'].append(np.sqrt(wNum)/ ((totalHourWorkers - np.sqrt(wNum)) * expectedWhitesRatio))\n",
    "    ErrorsLower['Black'].append(np.sqrt(bNum)/ ((totalHourWorkers - np.sqrt(bNum)) * expectedBlacksRatio))\n",
    "    ErrorsLower['Hispanic'].append(np.sqrt(hNum)/ ((totalHourWorkers - np.sqrt(hNum)) * expectedHispanicRatio))\n",
    "    ErrorsLower['Asian'].append(np.sqrt(aNum)/ ((totalHourWorkers - np.sqrt(aNum)) * expectedAsianRatio))\n",
    "\n",
    "#DemographicsWeightsHours"
   ]
  },
  {
   "cell_type": "code",
   "execution_count": null,
   "metadata": {},
   "outputs": [],
   "source": [
    "hoursWhite = [i for i in hours]\n",
    "hoursBlack = [i-.08 for i in hours]\n",
    "hoursHispanic = [i+.08 for i in hours]"
   ]
  },
  {
   "cell_type": "code",
   "execution_count": null,
   "metadata": {},
   "outputs": [],
   "source": [
    "totalWorkersHours = []\n",
    "for hour in hours:\n",
    "    wNum = whiteDataHours[hour]\n",
    "    bNum = blackDataHours[hour]\n",
    "    hNum = hispanicDataHours[hour]\n",
    "    aNum = asianDataHours[hour]\n",
    "    totalWorkersHours.append(wNum + bNum + hNum + aNum)\n",
    "totalWorkersHours = [i*(2/max(totalWorkersHours)) for i in totalWorkersHours]"
   ]
  },
  {
   "cell_type": "code",
   "execution_count": null,
   "metadata": {},
   "outputs": [],
   "source": [
    "fig, ax1 = plt.subplots(figsize=(20, 8))\n",
    "\n",
    "#ax = plt.subplots(figsize=(20, 8))[1]\n",
    "\n",
    "\n",
    "ax1.bar(hours, totalWorkersHours, color=\"#e7e3e0\", alpha=.6, zorder=1)\n",
    "\n",
    "ax2 = ax1.twinx()\n",
    "ax2.errorbar(hours, DemographicsWeightsHours['White'], yerr=[ErrorsUpper['White'], ErrorsLower['White']], \n",
    "             fmt='o', label='White', markersize=8, color=\"#89d348\", zorder=3)\n",
    "\n",
    "ax2.errorbar(hoursBlack, DemographicsWeightsHours['Black'], yerr=[ErrorsUpper['Black'], ErrorsLower['Black']], \n",
    "             fmt='o', label='Black', markersize=8, color='#3f788f', zorder=2)\n",
    "\n",
    "ax2.errorbar(hoursHispanic, DemographicsWeightsHours['Hispanic'], \n",
    "             yerr=[ErrorsUpper['Hispanic'], ErrorsLower['Hispanic']], fmt='o', label='Hispanic', \n",
    "             markersize=8, color='#410056', zorder=1)\n",
    "\n",
    "#plt.plot(hours, DemographicsWeightsHours['Asian'], color='purple', label='Asian')\n",
    "#plt.scatter(hours, DemographicsWeightsHours['Asian'], color='purple')\n",
    "\n",
    "ax2.set_yticks([])\n",
    "ax2.set_ylabel(\"Counts of People (arb)\", fontsize=16)\n",
    "\n",
    "\n",
    "hourLabels = [\"12am\", \" \", \"2am\", \" \", \"4am\", \" \", \"6am\", \" \", \"8am\", \" \", \"10am\", \" \",\n",
    "             \"12pm\", \" \", \"2pm\", \" \", \"4pm\", \" \", \"6pm\", \" \", \"8pm\", \" \", \"10pm\", \" \"]\n",
    "plt.xticks(hoursWhite, labels=hourLabels)\n",
    "ax1.grid(axis='x', linestyle=':', alpha=.6, zorder=0)\n",
    "plt.title(\"How likely an ethnic group is to leave for work at a given time\", fontsize=18)\n",
    "plt.xlabel(\"Hour that group leaves to go to work\", fontsize=16)\n",
    "ax1.set_ylabel(\"Weight Factor\", fontsize=16)\n",
    "plt.ylim(0, 2.2)\n",
    "ax2.legend(fontsize=14, bbox_to_anchor=(0.12, .98))\n",
    "plt.savefig(\"PaperFigures/WeightFactorRaces\", bbox_inches='tight', format='svg')\n",
    "plt.savefig(\"PaperFigures/WeightFactorRaces\", bbox_inches='tight')\n",
    "plt.show()"
   ]
  },
  {
   "cell_type": "code",
   "execution_count": null,
   "metadata": {},
   "outputs": [],
   "source": []
  }
 ],
 "metadata": {
  "kernelspec": {
   "display_name": "Python 3",
   "language": "python",
   "name": "python3"
  },
  "language_info": {
   "codemirror_mode": {
    "name": "ipython",
    "version": 3
   },
   "file_extension": ".py",
   "mimetype": "text/x-python",
   "name": "python",
   "nbconvert_exporter": "python",
   "pygments_lexer": "ipython3",
   "version": "3.8.2"
  }
 },
 "nbformat": 4,
 "nbformat_minor": 4
}
