{
 "cells": [
  {
   "cell_type": "code",
   "execution_count": 1,
   "metadata": {},
   "outputs": [
    {
     "data": {
      "text/html": [
       "<style>.container { width:80% !important; }</style>"
      ],
      "text/plain": [
       "<IPython.core.display.HTML object>"
      ]
     },
     "metadata": {},
     "output_type": "display_data"
    }
   ],
   "source": [
    "# Make Jupyter Notebook full screen \n",
    "from IPython.core.display import display, HTML\n",
    "display(HTML(\"<style>.container { width:80% !important; }</style>\"))"
   ]
  },
  {
   "cell_type": "markdown",
   "metadata": {},
   "source": [
    "### Notes:\n",
    "\n",
    "- missing routes, see notes below, need to fix potentially\n",
    "- only considering weekday (not weekday standard)\n"
   ]
  },
  {
   "cell_type": "code",
   "execution_count": 2,
   "metadata": {},
   "outputs": [],
   "source": [
    "# Import statements:\n",
    "\n",
    "import pandas as pd\n",
    "import numpy as np\n",
    "from scipy import stats\n",
    "import matplotlib.pyplot as plt\n",
    "from matplotlib.lines import Line2D"
   ]
  },
  {
   "cell_type": "code",
   "execution_count": 3,
   "metadata": {},
   "outputs": [
    {
     "data": {
      "text/plain": [
       "['fare_attributes.txt',\n",
       " 'transfers.txt',\n",
       " 'agency.txt',\n",
       " 'fare_rules.txt',\n",
       " 'calendar_dates.txt',\n",
       " 'stop_times.txt',\n",
       " 'shapes.txt',\n",
       " 'trips.txt',\n",
       " 'feed_info.txt',\n",
       " 'stops.txt',\n",
       " 'linked_datasets.txt',\n",
       " 'stop_features.txt',\n",
       " 'calendar.txt',\n",
       " 'routes.txt',\n",
       " 'translations.txt']"
      ]
     },
     "execution_count": 3,
     "metadata": {},
     "output_type": "execute_result"
    }
   ],
   "source": [
    "# Local data paths:\n",
    "\n",
    "GTFS_DATA_PATH = \"mmt_gtfs/\"\n",
    "import os; os.listdir(GTFS_DATA_PATH) # Peak whats in the directory "
   ]
  },
  {
   "cell_type": "code",
   "execution_count": 4,
   "metadata": {},
   "outputs": [],
   "source": [
    "def getPandasDFCSV(path, file, sep=','):  \n",
    "    \"\"\" Keyword Arg sep: deliminator used in txt file (default = ',')\"\"\"\n",
    "    pandasDF = pd.read_csv(path +  file, sep=sep)\n",
    "    return pandasDF"
   ]
  },
  {
   "cell_type": "code",
   "execution_count": 5,
   "metadata": {},
   "outputs": [],
   "source": [
    "stop_times_df = getPandasDFCSV(GTFS_DATA_PATH, 'stop_times.txt')\n",
    "#stop_times_df.info()\n",
    "#stop_times_df.head(3)"
   ]
  },
  {
   "cell_type": "code",
   "execution_count": 6,
   "metadata": {},
   "outputs": [],
   "source": [
    "trips_df = getPandasDFCSV(GTFS_DATA_PATH, 'trips.txt')\n",
    "#trips_df.info()\n",
    "#trips_df.head(3)"
   ]
  },
  {
   "cell_type": "code",
   "execution_count": 7,
   "metadata": {},
   "outputs": [],
   "source": [
    "stops_df = getPandasDFCSV(GTFS_DATA_PATH, 'stops.txt')\n",
    "#stops_df.info()\n",
    "#stops_df.head(3)"
   ]
  },
  {
   "cell_type": "markdown",
   "metadata": {},
   "source": [
    "Want to go through trips data to pull out a characteristic trip for each route, should be a trip with the maximum number of stops, could look at trips with the min later for comparison, or look at time variance later as well. "
   ]
  },
  {
   "cell_type": "code",
   "execution_count": 8,
   "metadata": {},
   "outputs": [],
   "source": [
    "trips_df = getPandasDFCSV(GTFS_DATA_PATH, 'trips.txt')\n",
    "#trips_df.info()\n",
    "#trips_df.head(3)"
   ]
  },
  {
   "cell_type": "code",
   "execution_count": 9,
   "metadata": {},
   "outputs": [
    {
     "name": "stdout",
     "output_type": "stream",
     "text": [
      "['92_WKD', '92_SAT', '92_SUN', '92_HOL', '92_MWK', '92_WKD:R', '92_SAT:R', '92_SUN:R', '92_HOL:R', '92_SAT:L', '92_SUN:L', '92_WKD:L#6', '92_WKD:L=6', '92_WKD:S', '92_SAT:S', '92_SUN:S', '92_WKD:S#6', '92_WKD:S=6']\n"
     ]
    }
   ],
   "source": [
    "# list of possible trips:\n",
    "\n",
    "service_id_list = []\n",
    "\n",
    "for i in trips_df['service_id']:\n",
    "    if i not in service_id_list:\n",
    "        service_id_list.append(i)\n",
    "print(service_id_list)"
   ]
  },
  {
   "cell_type": "code",
   "execution_count": 10,
   "metadata": {},
   "outputs": [
    {
     "name": "stdout",
     "output_type": "stream",
     "text": [
      "[2, 4, 5, 6, 7, 8, 10, 11, 12, 13, 15, 16, 17, 18, 20, 21, 22, 23, 26, 27, 30, 31, 32, 33, 36, 39, 40, 44, 48, 49, 50, 51, 52, 55, 59, 63, 67, 68, 70, 72, 73, 75, 78, 80, 81, 82, 84]\n"
     ]
    }
   ],
   "source": [
    "# list of possible routes:\n",
    "\n",
    "route_short_name_list = []\n",
    "\n",
    "for i in trips_df['route_short_name']:\n",
    "    if i not in route_short_name_list:\n",
    "        route_short_name_list.append(i)\n",
    "\n",
    "route_short_name_list.sort()\n",
    "print(route_short_name_list)"
   ]
  },
  {
   "cell_type": "markdown",
   "metadata": {},
   "source": [
    "59, 63, 68, : weekend, holiday only\n",
    "\n",
    "78: weekend only\n",
    "\n",
    "80, 84 weekday standard"
   ]
  },
  {
   "cell_type": "code",
   "execution_count": 11,
   "metadata": {},
   "outputs": [
    {
     "ename": "NameError",
     "evalue": "name 'trips_df_weekday_peak_s1' is not defined",
     "output_type": "error",
     "traceback": [
      "\u001b[0;31m---------------------------------------------------------------------------\u001b[0m",
      "\u001b[0;31mNameError\u001b[0m                                 Traceback (most recent call last)",
      "\u001b[0;32m<ipython-input-11-29924a34789b>\u001b[0m in \u001b[0;36m<module>\u001b[0;34m\u001b[0m\n\u001b[1;32m      1\u001b[0m \u001b[0mtrips_df_weekday_peak_s3\u001b[0m \u001b[0;34m=\u001b[0m \u001b[0mtrips_df\u001b[0m\u001b[0;34m[\u001b[0m\u001b[0mtrips_df\u001b[0m\u001b[0;34m[\u001b[0m\u001b[0;34m'service_id'\u001b[0m\u001b[0;34m]\u001b[0m \u001b[0;34m==\u001b[0m \u001b[0;34m'92_WKD:S=6'\u001b[0m\u001b[0;34m]\u001b[0m\u001b[0;34m\u001b[0m\u001b[0;34m\u001b[0m\u001b[0m\n\u001b[0;32m----> 2\u001b[0;31m \u001b[0mtrips_df_weekday_peak_s1\u001b[0m\u001b[0;34m\u001b[0m\u001b[0;34m\u001b[0m\u001b[0m\n\u001b[0m",
      "\u001b[0;31mNameError\u001b[0m: name 'trips_df_weekday_peak_s1' is not defined"
     ]
    }
   ],
   "source": [
    "trips_df_weekday_peak_s3 = trips_df[trips_df['service_id'] == '92_WKD:S=6']\n",
    "trips_df_weekday_peak_s1"
   ]
  },
  {
   "cell_type": "code",
   "execution_count": null,
   "metadata": {},
   "outputs": [],
   "source": [
    "trips_df_weekday_peak = trips_df[trips_df['service_id'] == '92_WKD']\n",
    "trips_df_weekday_peak_R = trips_df[trips_df['service_id'] == '92_WKD:R']\n",
    "trips_df_weekday_peak_s = trips_df[trips_df['service_id'] == '92_WKD:L#6']\n",
    "trips_df_weekday_peak_s3 = trips_df[trips_df['service_id'] == '92_WKD:L=6']\n",
    "trips_df_weekday_peak_s1 = trips_df[trips_df['service_id'] == '92_WKD:S']\n",
    "trips_df_weekday_peak_s2 = trips_df[trips_df['service_id'] == '92_WKD:S#6']\n",
    "trips_df_weekday_peak_s4 = trips_df[trips_df['service_id'] == '92_WKD:S=6']\n",
    "\n",
    "dfs_wk = [trips_df_weekday_peak, trips_df_weekday_peak_R, trips_df_weekday_peak_s, \n",
    "          trips_df_weekday_peak_s1, trips_df_weekday_peak_s2, trips_df_weekday_peak_s4]\n",
    "\n",
    "trips_df_weekday = pd.concat(dfs_wk)\n",
    "trips_df_weekday.head()"
   ]
  },
  {
   "cell_type": "code",
   "execution_count": null,
   "metadata": {},
   "outputs": [],
   "source": [
    "routes_wk_list = []\n",
    "for route in trips_df_weekday['route_short_name']:\n",
    "    if route not in routes_wk_list:\n",
    "        routes_wk_list.append(route)\n",
    "\n",
    "routes_wk_list.sort()\n",
    "print(routes_wk_list)"
   ]
  },
  {
   "cell_type": "code",
   "execution_count": null,
   "metadata": {},
   "outputs": [],
   "source": [
    "print(\"weekend and holiday routes:\")\n",
    "for route in route_short_name_list:\n",
    "    if route not in routes_wk_list:\n",
    "        print(route)"
   ]
  },
  {
   "cell_type": "code",
   "execution_count": null,
   "metadata": {},
   "outputs": [],
   "source": [
    "# make a dictionary of routes with trip ID's for weekday service:\n",
    "\n",
    "tripIDList_forRoutes_weekday92 = dict()\n",
    "\n",
    "for i in routes_wk_list:\n",
    "    trip_list = []\n",
    "    for j in trips_df_weekday[trips_df_weekday['route_short_name'] == i].iterrows():\n",
    "        trip_list.append(j[1]['trip_id'])\n",
    "    tripIDList_forRoutes_weekday92[i] = trip_list\n",
    "\n",
    "#tripIDList_forRoutes_weekday92"
   ]
  },
  {
   "cell_type": "code",
   "execution_count": null,
   "metadata": {},
   "outputs": [],
   "source": [
    "for route in tripIDList_forRoutes_weekday92:\n",
    "    \n",
    "    for trip in tripIDList_forRoutes_weekday92[route]:\n",
    "        trip_stop_time_df = stop_times_df[stop_times_df['trip_id'] == trip]"
   ]
  },
  {
   "cell_type": "code",
   "execution_count": null,
   "metadata": {},
   "outputs": [],
   "source": [
    "def get_stop_distances(trip):\n",
    "    \"\"\" getting the stop spacing for a given trip. Stop spacing is defined as the distance travelled by bus between two cosecutive stops. \n",
    "    Should mirror natural walking terrain better than distance between two globe points.\n",
    "    \n",
    "    return: numpy array - contains # of stops - 1 elements that are the distances between stops driven by the bus\n",
    "    \"\"\"\n",
    "    stop_dist_array = []\n",
    "    trip_stop_time_df = stop_times_df[stop_times_df['trip_id'] == trip]\n",
    "    distance_travelled = np.array(trip_stop_time_df['shape_dist_traveled'])\n",
    "    for i in range(len(distance_travelled)-1):\n",
    "        stop_spacing = distance_travelled[i+1] - distance_travelled[i]\n",
    "        stop_dist_array.append(stop_spacing)\n",
    "        \n",
    "    return stop_dist_array\n",
    "\n",
    "print(get_stop_distances(9999999))"
   ]
  },
  {
   "cell_type": "code",
   "execution_count": null,
   "metadata": {},
   "outputs": [],
   "source": [
    "all_trip_distances_forRoutes_weekday92 = dict()\n",
    "\n",
    "for route in tripIDList_forRoutes_weekday92:\n",
    "    #print(route)\n",
    "    all_trip_distances = []\n",
    "    for trip in tripIDList_forRoutes_weekday92[route]:\n",
    "        #print(trip)\n",
    "        trip_distances = get_stop_distances(trip)\n",
    "        all_trip_distances.append(trip_distances)\n",
    "    all_trip_distances_forRoutes_weekday92[route] = all_trip_distances\n",
    "    \n",
    "#all_trip_distances_forRoutes_weekday92"
   ]
  },
  {
   "cell_type": "code",
   "execution_count": null,
   "metadata": {},
   "outputs": [],
   "source": [
    "all_trip_distances_forRoutes_weekday92 = dict()\n",
    "\n",
    "for route in tripIDList_forRoutes_weekday92:\n",
    "    #print(route)\n",
    "    all_trip_distances = []\n",
    "    for trip in tripIDList_forRoutes_weekday92[route]:\n",
    "        #print(trip)\n",
    "        trip_distances = get_stop_distances(trip)\n",
    "        all_trip_distances += trip_distances\n",
    "        all_trip_distances.sort()\n",
    "    all_trip_distances_forRoutes_weekday92[route] = np.array(all_trip_distances)\n",
    "    \n",
    "#all_trip_distances_forRoutes_weekday92"
   ]
  },
  {
   "cell_type": "code",
   "execution_count": null,
   "metadata": {},
   "outputs": [],
   "source": [
    "weekday_routes_92_allTrips = pd.DataFrame.from_dict(dict([ (k, pd.Series(v)) for k, v in all_trip_distances_forRoutes_weekday92.items()]))\n",
    "weekday_routes_92_allTrips"
   ]
  },
  {
   "cell_type": "code",
   "execution_count": null,
   "metadata": {},
   "outputs": [],
   "source": [
    "ax = plt.subplots(figsize=(20, 12))[1]\n",
    "\n",
    "for i, col in enumerate(weekday_routes_92_allTrips.columns):\n",
    "    s = weekday_routes_92_allTrips[col]\n",
    "    x = i+1\n",
    "    \n",
    "    y = s.quantile(0.5)\n",
    "    ax.plot(x, y, color='#b00149', linewidth=3, markersize=5, marker = \"_\", alpha=.9)\n",
    "\n",
    "    y1 = s.quantile(0.75)\n",
    "    y2 = s.quantile(1)\n",
    "    ax.plot((x, x), (y1, y2), color='#87ae73', linewidth=5, markersize=1, linestyle = \"-\", alpha=.9)\n",
    "    #ax.plot((x-.5, x+.5), (y1, y1), color='k', linewidth=2, markersize=1, linestyle = \"-\", alpha=.5)\n",
    "\n",
    "    y1 = s.quantile(0)\n",
    "    y2 = s.quantile(0.25)\n",
    "    ax.plot((x, x), (y1, y2), color='#34013f', linewidth=5, markersize=1, linestyle = \"-\", alpha=.9)\n",
    "    \n",
    "ax.set_xlim(0.5, len(weekday_routes_92_allTrips.columns)+0.5)\n",
    "ax.set_ylim(0, 4)\n",
    "ax.set_xticklabels(list(weekday_routes_92_allTrips.columns))\n",
    "ax.set_xticks(range(1, len(weekday_routes_92_allTrips.columns)+1))\n",
    "    \n",
    "ax.spines['right'].set_visible(False)\n",
    "ax.spines['top'].set_visible(False)\n",
    "\n",
    "plt.xlabel(\"Weekday Bus Routes\")\n",
    "plt.ylabel(\"Stop Distance (miles)\")\n",
    "\n",
    "custom_lines = [Line2D([0], [0], color='#b00149', lw=4), Line2D([0], [0], color='#87ae73', lw=4), Line2D([0], [0], color='#34013f', lw=4)]\n",
    "plt.legend(custom_lines, ['Mean', 'Top 25%', 'Bottom 25%'])\n",
    "\n",
    "plt.title(\"Quartiles and mean distance travelled for all weekday trips\")\n",
    "plt.savefig(\"Quartiles_allTrips_Weekdays\")"
   ]
  },
  {
   "cell_type": "code",
   "execution_count": null,
   "metadata": {},
   "outputs": [],
   "source": [
    "ax = plt.subplots(figsize=(20, 10))[1]\n",
    "\n",
    "for i, col in enumerate(weekday_routes_92_allTrips.columns):\n",
    "    s = weekday_routes_92_allTrips[col]\n",
    "    x = i+1\n",
    "    \n",
    "    #y = s.quantile(0.5)\n",
    "    #ax.plot(x, y, color='#b00149', linewidth=3, markersize=5, marker = \"_\", alpha=.9)\n",
    "\n",
    "    y1 = s.quantile(0.75)\n",
    "    y2 = s.quantile(1)\n",
    "    ax.plot((x, x), (y1, y2), color='#87ae73', linewidth=20, markersize=1, linestyle = \"-\", alpha=.7)\n",
    "    #ax.plot((x-.5, x+.5), (y1, y1), color='k', linewidth=2, markersize=1, linestyle = \"-\", alpha=.5)\n",
    "\n",
    "    y1 = s.quantile(0)\n",
    "    y2 = s.quantile(0.25)\n",
    "    ax.plot((x, x), (y1, y2), color='#34013f', linewidth=20, markersize=1, linestyle = \"-\", alpha=.7)\n",
    "    \n",
    "    y1 = s.quantile(0.25)\n",
    "    y2 = s.quantile(0.75)\n",
    "    ax.plot((x, x), (y1, y2), color='#b00149', linewidth=10, markersize=1, linestyle = \"-\", alpha=.7)\n",
    "    \n",
    "ax.set_xlim(0.5, len(weekday_routes_92_allTrips.columns)+0.5)\n",
    "ax.set_ylim(0, 4)\n",
    "ax.set_xticklabels(list(weekday_routes_92_allTrips.columns))\n",
    "ax.set_xticks(range(1, len(weekday_routes_92_allTrips.columns)+1))\n",
    "    \n",
    "ax.spines['right'].set_visible(False)\n",
    "ax.spines['top'].set_visible(False)\n",
    "\n",
    "plt.xlabel(\"Weekday Bus Routes\")\n",
    "plt.ylabel(\"Stop Distance (miles)\")\n",
    "\n",
    "custom_lines = [Line2D([0], [0], color='#b00149', lw=4), Line2D([0], [0], color='#87ae73', lw=4), Line2D([0], [0], color='#34013f', lw=4)]\n",
    "plt.legend(custom_lines, ['Middle 50%', 'Top 25%', 'Bottom 25%'])"
   ]
  },
  {
   "cell_type": "code",
   "execution_count": null,
   "metadata": {},
   "outputs": [],
   "source": [
    "ax = plt.subplots(figsize=(20, 8))[1]\n",
    "\n",
    "for i, col in enumerate(weekday_routes_92_allTrips.columns):\n",
    "    s = weekday_routes_92_allTrips[col]\n",
    "    x = i+1\n",
    "    \n",
    "    y = s.quantile(0.5)\n",
    "    ax.plot(x, y, color='#b00149', linewidth=3, markersize=5, marker = \"_\", alpha=.9)\n",
    "\n",
    "    y1 = s.quantile(0.75)\n",
    "    y2 = s.quantile(1)\n",
    "    ax.plot((x, x), (y1, y2), color='#87ae73', linewidth=5, markersize=1, linestyle = \"-\", alpha=.9)\n",
    "    #ax.plot((x-.5, x+.5), (y1, y1), color='k', linewidth=2, markersize=1, linestyle = \"-\", alpha=.5)\n",
    "\n",
    "    y1 = s.quantile(0)\n",
    "    y2 = s.quantile(0.25)\n",
    "    ax.plot((x, x), (y1, y2), color='#34013f', linewidth=5, markersize=1, linestyle = \"-\", alpha=.9)\n",
    "    \n",
    "ax.set_xlim(0.5, len(weekday_routes_92_allTrips.columns)+0.5)\n",
    "ax.set_ylim(0, 1)\n",
    "ax.set_xticklabels(list(weekday_routes_92_allTrips.columns))\n",
    "ax.set_xticks(range(1, len(weekday_routes_92_allTrips.columns)+1))\n",
    "    \n",
    "ax.spines['right'].set_visible(False)\n",
    "ax.spines['top'].set_visible(False)\n",
    "\n",
    "plt.xlabel(\"Weekday Bus Routes\")\n",
    "plt.ylabel(\"Stop Distance (miles)\")\n",
    "\n",
    "custom_lines = [Line2D([0], [0], color='#b00149', lw=4), Line2D([0], [0], color='#87ae73', lw=4), Line2D([0], [0], color='#34013f', lw=4)]\n",
    "plt.legend(custom_lines, ['Mean', 'Top 25%', 'Bottom 25%'])\n",
    "\n",
    "plt.title(\"Quartiles and mean distance travelled for all weekday trips - Zoom\")\n",
    "plt.savefig(\"Quartiles_allTrips_Weekdays_zoom\")"
   ]
  },
  {
   "cell_type": "code",
   "execution_count": null,
   "metadata": {},
   "outputs": [],
   "source": [
    "ax = plt.subplots(figsize=(20, 8))[1]\n",
    "\n",
    "for i, col in enumerate(weekday_routes_92_allTrips.columns):\n",
    "    s = weekday_routes_92_allTrips[col]\n",
    "    x = i+1\n",
    "    \n",
    "    y1 = 0\n",
    "    y2 = s.quantile(.5)\n",
    "    ax.plot((x, x), (y1, y2), color='#34013f', linewidth=10, markersize=1, linestyle = \"-\", alpha=.9)\n",
    "    \n",
    "ax.set_xlim(0.5, len(weekday_routes_92_allTrips.columns)+0.5)\n",
    "plt.ylim(0, .4)\n",
    "ax.set_xticklabels(list(weekday_routes_92_allTrips.columns))\n",
    "ax.set_xticks(range(1, len(weekday_routes_92_allTrips.columns)+1))\n",
    "    \n",
    "ax.spines['right'].set_visible(False)\n",
    "ax.spines['top'].set_visible(False)\n",
    "\n",
    "plt.xlabel(\"Weekday Bus Routes\")\n",
    "plt.ylabel(\"Stop Distance (miles)\")\n",
    "\n",
    "custom_lines = [Line2D([0], [0], color='#34013f', lw=4)]\n",
    "plt.legend(custom_lines, ['Mean'])\n",
    "\n",
    "plt.title(\"Mean distance travelled for all weekday trips\")\n",
    "plt.savefig(\"Means_allTrips_Weekdays_zoom\")"
   ]
  },
  {
   "cell_type": "code",
   "execution_count": null,
   "metadata": {},
   "outputs": [],
   "source": []
  },
  {
   "cell_type": "code",
   "execution_count": null,
   "metadata": {},
   "outputs": [],
   "source": []
  },
  {
   "cell_type": "code",
   "execution_count": null,
   "metadata": {},
   "outputs": [],
   "source": []
  },
  {
   "cell_type": "code",
   "execution_count": null,
   "metadata": {},
   "outputs": [],
   "source": []
  }
 ],
 "metadata": {
  "kernelspec": {
   "display_name": "Python 3",
   "language": "python",
   "name": "python3"
  },
  "language_info": {
   "codemirror_mode": {
    "name": "ipython",
    "version": 3
   },
   "file_extension": ".py",
   "mimetype": "text/x-python",
   "name": "python",
   "nbconvert_exporter": "python",
   "pygments_lexer": "ipython3",
   "version": "3.8.2"
  }
 },
 "nbformat": 4,
 "nbformat_minor": 4
}
