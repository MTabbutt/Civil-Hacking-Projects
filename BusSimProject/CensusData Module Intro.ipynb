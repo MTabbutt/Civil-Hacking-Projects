{
 "cells": [
  {
   "cell_type": "markdown",
   "metadata": {},
   "source": [
    "Author: Megan Tabbutt\n",
    "\n",
    "Latest version: 03_18_21\n",
    "\n",
    "Notes:\n",
    "\n",
    "Resources: \n",
    "\n",
    "- PyPI: https://pypi.org/project/CensusData/\n",
    "- Documentation: https://jtleider.github.io/censusdata/\n",
    "- County level data: https://www.census.gov/geographies/mapping-files/time-series/geo/carto-boundary-file.html\n",
    "\n",
    "\n",
    "Datasets:\n",
    "\n",
    "    ACS 5-year estimates (2005-2009 to 2015-2019),\n",
    "    ACS 1-year estimates (2012-2019),\n",
    "    ACS 3-year estimates (2010-2012 to 2011-2013),\n",
    "    ACS 1-year supplemental estimates (2014-2019),\n",
    "    Census 2010 Summary File 1.\n"
   ]
  },
  {
   "cell_type": "markdown",
   "metadata": {},
   "source": [
    "## Questions:\n",
    "\n",
    "- Can we assume it is confined to one state? \n",
    "- Will finding NSEW points to check for counties be sufficent? \n"
   ]
  },
  {
   "cell_type": "code",
   "execution_count": 1,
   "metadata": {},
   "outputs": [
    {
     "data": {
      "text/html": [
       "<style>.container { width:90% !important; }</style>"
      ],
      "text/plain": [
       "<IPython.core.display.HTML object>"
      ]
     },
     "metadata": {},
     "output_type": "display_data"
    }
   ],
   "source": [
    "# Make Jupyter Notebook full screen \n",
    "from IPython.core.display import display, HTML\n",
    "display(HTML(\"<style>.container { width:90% !important; }</style>\"))"
   ]
  },
  {
   "cell_type": "code",
   "execution_count": 42,
   "metadata": {},
   "outputs": [],
   "source": [
    "import censusdata\n",
    "import pandas as pd\n",
    "import geopandas\n",
    "from shapely.geometry import Point\n",
    "import matplotlib.pyplot as plt"
   ]
  },
  {
   "cell_type": "markdown",
   "metadata": {},
   "source": [
    "## Need interface from gtfs data to using the censusdata"
   ]
  },
  {
   "cell_type": "code",
   "execution_count": 60,
   "metadata": {},
   "outputs": [
    {
     "data": {
      "text/html": [
       "<div>\n",
       "<style scoped>\n",
       "    .dataframe tbody tr th:only-of-type {\n",
       "        vertical-align: middle;\n",
       "    }\n",
       "\n",
       "    .dataframe tbody tr th {\n",
       "        vertical-align: top;\n",
       "    }\n",
       "\n",
       "    .dataframe thead th {\n",
       "        text-align: right;\n",
       "    }\n",
       "</style>\n",
       "<table border=\"1\" class=\"dataframe\">\n",
       "  <thead>\n",
       "    <tr style=\"text-align: right;\">\n",
       "      <th></th>\n",
       "      <th>shape_id</th>\n",
       "      <th>shape_code</th>\n",
       "      <th>shape_pt_lat</th>\n",
       "      <th>shape_pt_lon</th>\n",
       "      <th>shape_pt_sequence</th>\n",
       "      <th>shape_dist_traveled</th>\n",
       "    </tr>\n",
       "  </thead>\n",
       "  <tbody>\n",
       "    <tr>\n",
       "      <th>0</th>\n",
       "      <td>56620</td>\n",
       "      <td>2F</td>\n",
       "      <td>43.053972</td>\n",
       "      <td>-89.475246</td>\n",
       "      <td>1</td>\n",
       "      <td>0.0000</td>\n",
       "    </tr>\n",
       "    <tr>\n",
       "      <th>1</th>\n",
       "      <td>56620</td>\n",
       "      <td>2F</td>\n",
       "      <td>43.053967</td>\n",
       "      <td>-89.474976</td>\n",
       "      <td>2</td>\n",
       "      <td>0.0130</td>\n",
       "    </tr>\n",
       "    <tr>\n",
       "      <th>2</th>\n",
       "      <td>56620</td>\n",
       "      <td>2F</td>\n",
       "      <td>43.053933</td>\n",
       "      <td>-89.474855</td>\n",
       "      <td>3</td>\n",
       "      <td>0.0198</td>\n",
       "    </tr>\n",
       "  </tbody>\n",
       "</table>\n",
       "</div>"
      ],
      "text/plain": [
       "   shape_id shape_code  shape_pt_lat  shape_pt_lon  shape_pt_sequence  \\\n",
       "0     56620         2F     43.053972    -89.475246                  1   \n",
       "1     56620         2F     43.053967    -89.474976                  2   \n",
       "2     56620         2F     43.053933    -89.474855                  3   \n",
       "\n",
       "   shape_dist_traveled  \n",
       "0               0.0000  \n",
       "1               0.0130  \n",
       "2               0.0198  "
      ]
     },
     "execution_count": 60,
     "metadata": {},
     "output_type": "execute_result"
    }
   ],
   "source": [
    "# Pull in the latitude and longitude from gtfs data \n",
    "gtfs_data_path = \"/Users/megantabbutt/simulator/data/mmt_gtfs/\"\n",
    "lat_lon_file = 'shapes.csv'\n",
    "lat_lon_df = pd.read_csv(gtfs_data_path + lat_lon_file)\n",
    "lat_lon_df.head(3)"
   ]
  },
  {
   "cell_type": "markdown",
   "metadata": {},
   "source": [
    "### make into a geoDF if you want to plot below to check \n",
    "gdf = geopandas.GeoDataFrame(lat_lon_df, geometry=geopandas.points_from_xy(lat_lon_df.shape_pt_lon, lat_lon_df.shape_pt_lat))\n",
    "gdf.head(3)"
   ]
  },
  {
   "cell_type": "code",
   "execution_count": 62,
   "metadata": {},
   "outputs": [
    {
     "data": {
      "text/plain": [
       "[(43.053971999999995, -89.475246)]"
      ]
     },
     "execution_count": 62,
     "metadata": {},
     "output_type": "execute_result"
    }
   ],
   "source": [
    "# Convert to shapely point objects in tuples\n",
    "ID_points = [Point(lat_lon_df['shape_pt_lat'][i], lat_lon_df['shape_pt_lon'][i]) for i in range(len(lat_lon_df))]\n",
    "ID_points[0].coords[:]"
   ]
  },
  {
   "cell_type": "code",
   "execution_count": 63,
   "metadata": {},
   "outputs": [],
   "source": [
    "# Find the farthest points to check if multiple counties in the data exist\n",
    "farthest_points = [0, 0, 0, 0] # North, East, South, West\n",
    "farthest_points[0], farthest_points[1], farthest_points[2], farthest_points[3] = i, i, i, i\n",
    "\n",
    "for i in ID_points:\n",
    "    if i.x > farthest_points[0].x: # north\n",
    "        farthest_points[0] = i\n",
    "    if i.y > farthest_points[1].y: # east\n",
    "        farthest_points[1] = i\n",
    "    if i.x < farthest_points[2].x: # south\n",
    "        farthest_points[2] = i\n",
    "    if i.y < farthest_points[3].y: # west\n",
    "        farthest_points[3] = i"
   ]
  },
  {
   "cell_type": "markdown",
   "metadata": {},
   "source": [
    "### check that the points are doing the right things... YES\n",
    "far_points = pd.DataFrame(\n",
    "    {'Direction': ['North', 'East', 'South', 'West'],\n",
    "     'Latitude': [farthest_points[0].x, farthest_points[1].x, farthest_points[2].x, farthest_points[3].x],\n",
    "     'Longitude': [farthest_points[0].y, farthest_points[1].y, farthest_points[2].y, farthest_points[3].y]})\n",
    "\n",
    "far_points_gdf = geopandas.GeoDataFrame(far_points, geometry=geopandas.points_from_xy(far_points.Longitude, far_points.Latitude))\n",
    "\n",
    "fig, ax = plt.subplots(1, 1, figsize=(16, 16))\n",
    "gdf.plot(ax=ax)\n",
    "far_points_gdf.plot(ax=ax, color='orange', zorder=1)"
   ]
  },
  {
   "cell_type": "code",
   "execution_count": 64,
   "metadata": {},
   "outputs": [
    {
     "data": {
      "text/html": [
       "<div>\n",
       "<style scoped>\n",
       "    .dataframe tbody tr th:only-of-type {\n",
       "        vertical-align: middle;\n",
       "    }\n",
       "\n",
       "    .dataframe tbody tr th {\n",
       "        vertical-align: top;\n",
       "    }\n",
       "\n",
       "    .dataframe thead th {\n",
       "        text-align: right;\n",
       "    }\n",
       "</style>\n",
       "<table border=\"1\" class=\"dataframe\">\n",
       "  <thead>\n",
       "    <tr style=\"text-align: right;\">\n",
       "      <th></th>\n",
       "      <th>STATEFP</th>\n",
       "      <th>COUNTYFP</th>\n",
       "      <th>COUNTYNS</th>\n",
       "      <th>AFFGEOID</th>\n",
       "      <th>GEOID</th>\n",
       "      <th>NAME</th>\n",
       "      <th>LSAD</th>\n",
       "      <th>ALAND</th>\n",
       "      <th>AWATER</th>\n",
       "      <th>geometry</th>\n",
       "    </tr>\n",
       "  </thead>\n",
       "  <tbody>\n",
       "    <tr>\n",
       "      <th>497</th>\n",
       "      <td>55</td>\n",
       "      <td>003</td>\n",
       "      <td>01581061</td>\n",
       "      <td>0500000US55003</td>\n",
       "      <td>55003</td>\n",
       "      <td>Ashland</td>\n",
       "      <td>06</td>\n",
       "      <td>2706476264</td>\n",
       "      <td>3230710864</td>\n",
       "      <td>MULTIPOLYGON (((-90.46546 47.00259, -90.46532 ...</td>\n",
       "    </tr>\n",
       "    <tr>\n",
       "      <th>498</th>\n",
       "      <td>55</td>\n",
       "      <td>043</td>\n",
       "      <td>01581081</td>\n",
       "      <td>0500000US55043</td>\n",
       "      <td>55043</td>\n",
       "      <td>Grant</td>\n",
       "      <td>06</td>\n",
       "      <td>2970403781</td>\n",
       "      <td>94520011</td>\n",
       "      <td>POLYGON ((-91.15681 42.98817, -91.15302 42.990...</td>\n",
       "    </tr>\n",
       "    <tr>\n",
       "      <th>499</th>\n",
       "      <td>55</td>\n",
       "      <td>113</td>\n",
       "      <td>01581116</td>\n",
       "      <td>0500000US55113</td>\n",
       "      <td>55113</td>\n",
       "      <td>Sawyer</td>\n",
       "      <td>06</td>\n",
       "      <td>3257216619</td>\n",
       "      <td>239883874</td>\n",
       "      <td>POLYGON ((-91.55095 46.04111, -91.55064 46.055...</td>\n",
       "    </tr>\n",
       "    <tr>\n",
       "      <th>702</th>\n",
       "      <td>55</td>\n",
       "      <td>023</td>\n",
       "      <td>01581071</td>\n",
       "      <td>0500000US55023</td>\n",
       "      <td>55023</td>\n",
       "      <td>Crawford</td>\n",
       "      <td>06</td>\n",
       "      <td>1477970887</td>\n",
       "      <td>73976438</td>\n",
       "      <td>POLYGON ((-91.21499 43.36801, -91.21336 43.370...</td>\n",
       "    </tr>\n",
       "    <tr>\n",
       "      <th>703</th>\n",
       "      <td>55</td>\n",
       "      <td>037</td>\n",
       "      <td>01581078</td>\n",
       "      <td>0500000US55037</td>\n",
       "      <td>55037</td>\n",
       "      <td>Florence</td>\n",
       "      <td>06</td>\n",
       "      <td>1264232458</td>\n",
       "      <td>24111636</td>\n",
       "      <td>POLYGON ((-88.68331 46.01414, -88.68309 46.014...</td>\n",
       "    </tr>\n",
       "    <tr>\n",
       "      <th>...</th>\n",
       "      <td>...</td>\n",
       "      <td>...</td>\n",
       "      <td>...</td>\n",
       "      <td>...</td>\n",
       "      <td>...</td>\n",
       "      <td>...</td>\n",
       "      <td>...</td>\n",
       "      <td>...</td>\n",
       "      <td>...</td>\n",
       "      <td>...</td>\n",
       "    </tr>\n",
       "    <tr>\n",
       "      <th>2991</th>\n",
       "      <td>55</td>\n",
       "      <td>117</td>\n",
       "      <td>01581118</td>\n",
       "      <td>0500000US55117</td>\n",
       "      <td>55117</td>\n",
       "      <td>Sheboygan</td>\n",
       "      <td>06</td>\n",
       "      <td>1324851063</td>\n",
       "      <td>1967647733</td>\n",
       "      <td>POLYGON ((-88.16227 43.89151, -88.12217 43.891...</td>\n",
       "    </tr>\n",
       "    <tr>\n",
       "      <th>2992</th>\n",
       "      <td>55</td>\n",
       "      <td>139</td>\n",
       "      <td>01581129</td>\n",
       "      <td>0500000US55139</td>\n",
       "      <td>55139</td>\n",
       "      <td>Winnebago</td>\n",
       "      <td>06</td>\n",
       "      <td>1125846130</td>\n",
       "      <td>372645352</td>\n",
       "      <td>POLYGON ((-88.88667 44.24262, -88.85030 44.242...</td>\n",
       "    </tr>\n",
       "    <tr>\n",
       "      <th>3107</th>\n",
       "      <td>55</td>\n",
       "      <td>029</td>\n",
       "      <td>01581074</td>\n",
       "      <td>0500000US55029</td>\n",
       "      <td>55029</td>\n",
       "      <td>Door</td>\n",
       "      <td>06</td>\n",
       "      <td>1248277386</td>\n",
       "      <td>4890604620</td>\n",
       "      <td>MULTIPOLYGON (((-86.95617 45.35549, -86.95463 ...</td>\n",
       "    </tr>\n",
       "    <tr>\n",
       "      <th>3169</th>\n",
       "      <td>55</td>\n",
       "      <td>081</td>\n",
       "      <td>01581101</td>\n",
       "      <td>0500000US55081</td>\n",
       "      <td>55081</td>\n",
       "      <td>Monroe</td>\n",
       "      <td>06</td>\n",
       "      <td>2333330399</td>\n",
       "      <td>18586826</td>\n",
       "      <td>POLYGON ((-90.97807 44.12853, -90.97728 44.129...</td>\n",
       "    </tr>\n",
       "    <tr>\n",
       "      <th>3231</th>\n",
       "      <td>55</td>\n",
       "      <td>079</td>\n",
       "      <td>01581100</td>\n",
       "      <td>0500000US55079</td>\n",
       "      <td>55079</td>\n",
       "      <td>Milwaukee</td>\n",
       "      <td>06</td>\n",
       "      <td>625440563</td>\n",
       "      <td>2455383635</td>\n",
       "      <td>POLYGON ((-88.06959 42.86726, -88.06959 42.872...</td>\n",
       "    </tr>\n",
       "  </tbody>\n",
       "</table>\n",
       "<p>72 rows × 10 columns</p>\n",
       "</div>"
      ],
      "text/plain": [
       "     STATEFP COUNTYFP  COUNTYNS        AFFGEOID  GEOID       NAME LSAD  \\\n",
       "497       55      003  01581061  0500000US55003  55003    Ashland   06   \n",
       "498       55      043  01581081  0500000US55043  55043      Grant   06   \n",
       "499       55      113  01581116  0500000US55113  55113     Sawyer   06   \n",
       "702       55      023  01581071  0500000US55023  55023   Crawford   06   \n",
       "703       55      037  01581078  0500000US55037  55037   Florence   06   \n",
       "...      ...      ...       ...             ...    ...        ...  ...   \n",
       "2991      55      117  01581118  0500000US55117  55117  Sheboygan   06   \n",
       "2992      55      139  01581129  0500000US55139  55139  Winnebago   06   \n",
       "3107      55      029  01581074  0500000US55029  55029       Door   06   \n",
       "3169      55      081  01581101  0500000US55081  55081     Monroe   06   \n",
       "3231      55      079  01581100  0500000US55079  55079  Milwaukee   06   \n",
       "\n",
       "           ALAND      AWATER  \\\n",
       "497   2706476264  3230710864   \n",
       "498   2970403781    94520011   \n",
       "499   3257216619   239883874   \n",
       "702   1477970887    73976438   \n",
       "703   1264232458    24111636   \n",
       "...          ...         ...   \n",
       "2991  1324851063  1967647733   \n",
       "2992  1125846130   372645352   \n",
       "3107  1248277386  4890604620   \n",
       "3169  2333330399    18586826   \n",
       "3231   625440563  2455383635   \n",
       "\n",
       "                                               geometry  \n",
       "497   MULTIPOLYGON (((-90.46546 47.00259, -90.46532 ...  \n",
       "498   POLYGON ((-91.15681 42.98817, -91.15302 42.990...  \n",
       "499   POLYGON ((-91.55095 46.04111, -91.55064 46.055...  \n",
       "702   POLYGON ((-91.21499 43.36801, -91.21336 43.370...  \n",
       "703   POLYGON ((-88.68331 46.01414, -88.68309 46.014...  \n",
       "...                                                 ...  \n",
       "2991  POLYGON ((-88.16227 43.89151, -88.12217 43.891...  \n",
       "2992  POLYGON ((-88.88667 44.24262, -88.85030 44.242...  \n",
       "3107  MULTIPOLYGON (((-86.95617 45.35549, -86.95463 ...  \n",
       "3169  POLYGON ((-90.97807 44.12853, -90.97728 44.129...  \n",
       "3231  POLYGON ((-88.06959 42.86726, -88.06959 42.872...  \n",
       "\n",
       "[72 rows x 10 columns]"
      ]
     },
     "execution_count": 64,
     "metadata": {},
     "output_type": "execute_result"
    }
   ],
   "source": [
    "# traverse the whole list? or will it be confined to one state? \n",
    "countyData = geopandas.read_file(\"/Users/megantabbutt/Repos/Civil-Hacking-Projects/BusSimProject/cb_2018_us_county_500k/cb_2018_us_county_500k.shp\")\n",
    "Wisconsin = countyData[countyData['STATEFP']=='55']\n",
    "Wisconsin"
   ]
  },
  {
   "cell_type": "code",
   "execution_count": null,
   "metadata": {},
   "outputs": [],
   "source": [
    "point = Point(ID_points[0])\n",
    "point\n",
    "point.within(Wisconsin['geometry'])"
   ]
  },
  {
   "cell_type": "code",
   "execution_count": null,
   "metadata": {},
   "outputs": [],
   "source": []
  },
  {
   "cell_type": "code",
   "execution_count": null,
   "metadata": {},
   "outputs": [],
   "source": []
  },
  {
   "cell_type": "code",
   "execution_count": null,
   "metadata": {},
   "outputs": [],
   "source": []
  },
  {
   "cell_type": "code",
   "execution_count": null,
   "metadata": {},
   "outputs": [],
   "source": []
  },
  {
   "cell_type": "code",
   "execution_count": null,
   "metadata": {},
   "outputs": [],
   "source": []
  },
  {
   "cell_type": "code",
   "execution_count": null,
   "metadata": {},
   "outputs": [],
   "source": []
  },
  {
   "cell_type": "code",
   "execution_count": null,
   "metadata": {},
   "outputs": [],
   "source": []
  },
  {
   "cell_type": "code",
   "execution_count": null,
   "metadata": {},
   "outputs": [],
   "source": []
  },
  {
   "cell_type": "code",
   "execution_count": null,
   "metadata": {},
   "outputs": [],
   "source": []
  },
  {
   "cell_type": "code",
   "execution_count": null,
   "metadata": {},
   "outputs": [],
   "source": []
  },
  {
   "cell_type": "code",
   "execution_count": null,
   "metadata": {},
   "outputs": [],
   "source": []
  },
  {
   "cell_type": "code",
   "execution_count": null,
   "metadata": {},
   "outputs": [],
   "source": []
  },
  {
   "cell_type": "code",
   "execution_count": null,
   "metadata": {},
   "outputs": [],
   "source": []
  },
  {
   "cell_type": "markdown",
   "metadata": {},
   "source": [
    "### Fixes:"
   ]
  },
  {
   "cell_type": "code",
   "execution_count": null,
   "metadata": {},
   "outputs": [],
   "source": []
  },
  {
   "cell_type": "code",
   "execution_count": null,
   "metadata": {},
   "outputs": [],
   "source": [
    "import CensusDataWrapper as CDW"
   ]
  },
  {
   "cell_type": "code",
   "execution_count": null,
   "metadata": {},
   "outputs": [],
   "source": [
    "acs5_2015 = CDW.Census('acs5', 2015)"
   ]
  },
  {
   "cell_type": "code",
   "execution_count": null,
   "metadata": {},
   "outputs": [],
   "source": [
    "acs5_2015.getSummary()"
   ]
  },
  {
   "cell_type": "code",
   "execution_count": null,
   "metadata": {},
   "outputs": [],
   "source": [
    "acs5_2015.getStateCodes()"
   ]
  },
  {
   "cell_type": "code",
   "execution_count": null,
   "metadata": {},
   "outputs": [],
   "source": [
    "acs5_2015.getStateCodes(\"Wisco\")"
   ]
  },
  {
   "cell_type": "code",
   "execution_count": null,
   "metadata": {},
   "outputs": [],
   "source": [
    "acs5_2015.getStateCodes(\"Wisconsin\")"
   ]
  },
  {
   "cell_type": "code",
   "execution_count": null,
   "metadata": {},
   "outputs": [],
   "source": []
  },
  {
   "cell_type": "code",
   "execution_count": null,
   "metadata": {},
   "outputs": [],
   "source": []
  },
  {
   "cell_type": "code",
   "execution_count": null,
   "metadata": {},
   "outputs": [],
   "source": []
  },
  {
   "cell_type": "code",
   "execution_count": null,
   "metadata": {},
   "outputs": [],
   "source": [
    "import censusdata"
   ]
  },
  {
   "cell_type": "code",
   "execution_count": null,
   "metadata": {},
   "outputs": [],
   "source": [
    "data = censusdata.geographies(censusdata.censusgeo([('state', '*')]), 'acs5', 2015)\n",
    "data['Wisconsin']"
   ]
  },
  {
   "cell_type": "code",
   "execution_count": null,
   "metadata": {},
   "outputs": [],
   "source": []
  },
  {
   "cell_type": "code",
   "execution_count": null,
   "metadata": {},
   "outputs": [],
   "source": []
  },
  {
   "cell_type": "code",
   "execution_count": null,
   "metadata": {},
   "outputs": [],
   "source": []
  },
  {
   "cell_type": "code",
   "execution_count": null,
   "metadata": {},
   "outputs": [],
   "source": []
  },
  {
   "cell_type": "code",
   "execution_count": null,
   "metadata": {},
   "outputs": [],
   "source": []
  },
  {
   "cell_type": "code",
   "execution_count": null,
   "metadata": {},
   "outputs": [],
   "source": []
  },
  {
   "cell_type": "code",
   "execution_count": null,
   "metadata": {},
   "outputs": [],
   "source": []
  },
  {
   "cell_type": "code",
   "execution_count": null,
   "metadata": {},
   "outputs": [],
   "source": []
  },
  {
   "cell_type": "code",
   "execution_count": null,
   "metadata": {},
   "outputs": [],
   "source": [
    "sample = censusdata.search('acs5', 2019, 'label', 'RACE')\n",
    "# censusdata.search('survey type to search', 'year', 'type of field to search', 'search term')"
   ]
  },
  {
   "cell_type": "code",
   "execution_count": null,
   "metadata": {
    "scrolled": true
   },
   "outputs": [],
   "source": [
    "sample"
   ]
  },
  {
   "cell_type": "code",
   "execution_count": null,
   "metadata": {},
   "outputs": [],
   "source": [
    "censustable_race = censusdata.censustable('acs5', 2018, 'B02001')"
   ]
  },
  {
   "cell_type": "code",
   "execution_count": null,
   "metadata": {},
   "outputs": [],
   "source": [
    "censustable_race"
   ]
  },
  {
   "cell_type": "code",
   "execution_count": null,
   "metadata": {
    "scrolled": true
   },
   "outputs": [],
   "source": [
    "censusdata.geographies(censusdata.censusgeo([('state', '*')]), 'acs5', 2015)"
   ]
  },
  {
   "cell_type": "code",
   "execution_count": null,
   "metadata": {},
   "outputs": [],
   "source": [
    "Wisconsin = censusdata.geographies(censusdata.censusgeo([('state', '55')]), 'acs5', 2015)"
   ]
  },
  {
   "cell_type": "code",
   "execution_count": null,
   "metadata": {
    "scrolled": true
   },
   "outputs": [],
   "source": [
    "censusdata.geographies(censusdata.censusgeo([('state', '55'), ('county', '*')]), 'acs5', 2015)"
   ]
  },
  {
   "cell_type": "code",
   "execution_count": null,
   "metadata": {},
   "outputs": [],
   "source": [
    "DaneCounty = censusdata.geographies(censusdata.censusgeo([('state', '55'), ('county', '025')]), 'acs5', 2015)"
   ]
  },
  {
   "cell_type": "code",
   "execution_count": null,
   "metadata": {},
   "outputs": [],
   "source": [
    "DaneCounty"
   ]
  },
  {
   "cell_type": "code",
   "execution_count": null,
   "metadata": {},
   "outputs": [],
   "source": [
    "print(len(censusdata.geographies(censusdata.censusgeo([('state', '55'), ('county', '025'), ('block group', '*')]), 'acs5', 2015)))\n",
    "censusdata.geographies(censusdata.censusgeo([('state', '55'), ('county', '025'), ('block group', '*')]), 'acs5', 2015)"
   ]
  },
  {
   "cell_type": "code",
   "execution_count": null,
   "metadata": {},
   "outputs": [],
   "source": [
    "DaneCountyBG = censusdata.download('acs5', 2019,\n",
    "                             censusdata.censusgeo([('state', '55'), ('county', '025'), ('block group', '*')]),\n",
    "                             list(censustable_race))"
   ]
  },
  {
   "cell_type": "code",
   "execution_count": null,
   "metadata": {},
   "outputs": [],
   "source": [
    "DaneCountyBG"
   ]
  },
  {
   "cell_type": "code",
   "execution_count": null,
   "metadata": {},
   "outputs": [],
   "source": [
    "type(censustable_race)"
   ]
  },
  {
   "cell_type": "code",
   "execution_count": null,
   "metadata": {},
   "outputs": [],
   "source": [
    "for i in censustable_race:\n",
    "    print(i)\n",
    "censustable_race = list(censustable_race)\n",
    "censustable_race"
   ]
  },
  {
   "cell_type": "code",
   "execution_count": null,
   "metadata": {},
   "outputs": [],
   "source": []
  }
 ],
 "metadata": {
  "kernelspec": {
   "display_name": "Python 3",
   "language": "python",
   "name": "python3"
  },
  "language_info": {
   "codemirror_mode": {
    "name": "ipython",
    "version": 3
   },
   "file_extension": ".py",
   "mimetype": "text/x-python",
   "name": "python",
   "nbconvert_exporter": "python",
   "pygments_lexer": "ipython3",
   "version": "3.8.2"
  }
 },
 "nbformat": 4,
 "nbformat_minor": 4
}
